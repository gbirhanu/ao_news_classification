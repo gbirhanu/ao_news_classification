{
 "cells": [
  {
   "cell_type": "markdown",
   "id": "206fabe6-efef-495b-b446-e0ed71779791",
   "metadata": {},
   "source": [
    "## Multiclass Classification for Afaan Oromo news using Machine Learning"
   ]
  },
  {
   "cell_type": "markdown",
   "id": "76ad0e6d-90ed-400d-bfd8-19781c34869f",
   "metadata": {},
   "source": [
    "## Introduction"
   ]
  },
  {
   "cell_type": "markdown",
   "id": "1ef0cc72-7073-42dc-b1bc-398d6173340e",
   "metadata": {},
   "source": [
    "With huge news generated from internet and social media, understanding and make sense of them have huge benefit in saving peoples valueable time. Afaan oromo which is third most spoken language in africa[cite], and working language of Oromia state government, used as news distribution by many news channel; including internationally known, BBC and VOA. This work focus on creating a model to catogrizes news in to diffrent catagory. To do this we will use word vectors generating tool from fasttext."
   ]
  },
  {
   "cell_type": "markdown",
   "id": "b8f9abd1-3aa0-485a-8f8b-fef26e1e6734",
   "metadata": {},
   "source": [
    "### importing necessery package"
   ]
  },
  {
   "cell_type": "code",
   "execution_count": 1,
   "id": "6e0837f3-ab32-4d97-b713-a3d1ade7d3b1",
   "metadata": {},
   "outputs": [
    {
     "name": "stdout",
     "output_type": "stream",
     "text": [
      "Populating the interactive namespace from numpy and matplotlib\n"
     ]
    }
   ],
   "source": [
    "import re\n",
    "import string\n",
    "import pandas as pd\n",
    "import numpy as np\n",
    "import seaborn as sns\n",
    "import xgboost as xgb\n",
    "import fasttext\n",
    "import warnings\n",
    "import transformers\n",
    "import wandb\n",
    "from sklearn.preprocessing import LabelEncoder\n",
    "from sklearn.model_selection import cross_val_score\n",
    "from catboost import CatBoostClassifier\n",
    "from sklearn.model_selection import StratifiedKFold, train_test_split\n",
    "from sklearn.metrics import accuracy_score\n",
    "from nltk.tokenize import word_tokenize\n",
    "from tqdm.notebook import tqdm\n",
    "from matplotlib import pyplot as py\n",
    "from collections import Counter\n",
    "import torchcontrib\n",
    "warnings.filterwarnings('ignore')\n",
    "%pylab inline"
   ]
  },
  {
   "cell_type": "code",
   "execution_count": 2,
   "id": "4a758926-3e46-483a-a4c4-7768b8671953",
   "metadata": {},
   "outputs": [],
   "source": [
    "matplotlib.style.use('Solarize_Light2')"
   ]
  },
  {
   "cell_type": "markdown",
   "id": "c8f3920d-19ee-4b7d-b8f7-36f93739ea34",
   "metadata": {},
   "source": [
    "### Dataset"
   ]
  },
  {
   "cell_type": "markdown",
   "id": "f740bc6c-067d-41b0-bf8a-1c384094df6d",
   "metadata": {},
   "source": [
    "We have manually collected over 2000 news from diffrent news agencies, including FBC, OBN, BBC, VOA and soon. The news have diffrent catogories. let start by loading the data."
   ]
  },
  {
   "cell_type": "code",
   "execution_count": 3,
   "id": "441f247d-0a29-47c5-bab8-635e51d9e24a",
   "metadata": {},
   "outputs": [],
   "source": [
    "df = pd.read_csv('news10.csv')"
   ]
  },
  {
   "cell_type": "code",
   "execution_count": 4,
   "id": "0f16ff41-31af-4427-acb8-2d8dbf750f60",
   "metadata": {},
   "outputs": [
    {
     "data": {
      "text/plain": [
       "(4261, 2)"
      ]
     },
     "execution_count": 4,
     "metadata": {},
     "output_type": "execute_result"
    }
   ],
   "source": [
    "df.shape"
   ]
  },
  {
   "cell_type": "code",
   "execution_count": 5,
   "id": "52a39d22-9b81-42dc-82a9-00cff12225c7",
   "metadata": {},
   "outputs": [
    {
     "name": "stdout",
     "output_type": "stream",
     "text": [
      "                                                news     catagory\n",
      "0  Ministeerichi qabeenya uummaamaa irratti marii...  agriculture\n",
      "1  Ministeerri Qonnaa FDRI oomishti qonnaan bulaa...  agriculture\n",
      "2  OBN Mud.30,2012- Oomisha baranaarraa callaan k...  agriculture\n",
      "3  BN Mud.30,2012- Godina Boorana Aanalee 12 kees...  agriculture\n",
      "4  Naannoo Oromiyaatti misooma jallisiin lafa hek...  agriculture\n"
     ]
    }
   ],
   "source": [
    "print(df.head())"
   ]
  },
  {
   "cell_type": "markdown",
   "id": "9d6398a9-14b1-4efa-9e3a-c3420adecd10",
   "metadata": {},
   "source": [
    "We have **4261** row and there are two columns namely news and catagory"
   ]
  },
  {
   "cell_type": "code",
   "execution_count": 6,
   "id": "8cb9df3c-b4e9-43fb-b0d9-b096e1c268a0",
   "metadata": {},
   "outputs": [
    {
     "name": "stdout",
     "output_type": "stream",
     "text": [
      "                                                     news  catagory\n",
      "count                                                4261      4261\n",
      "unique                                               4192        10\n",
      "top     Dhaabbata Madaaallii Ga’umsa Ityoophiyaatti Gi...  politics\n",
      "freq                                                    3       665\n",
      "\n",
      "Information about each column\n",
      "\n",
      "<class 'pandas.core.frame.DataFrame'>\n",
      "RangeIndex: 4261 entries, 0 to 4260\n",
      "Data columns (total 2 columns):\n",
      " #   Column    Non-Null Count  Dtype \n",
      "---  ------    --------------  ----- \n",
      " 0   news      4261 non-null   object\n",
      " 1   catagory  4261 non-null   object\n",
      "dtypes: object(2)\n",
      "memory usage: 66.7+ KB\n"
     ]
    }
   ],
   "source": [
    "print(df.describe())\n",
    "\n",
    "print('\\nInformation about each column\\n')\n",
    "df.info()"
   ]
  },
  {
   "cell_type": "markdown",
   "id": "d82fa453-1a28-454f-8785-b1910c185d5e",
   "metadata": {},
   "source": [
    "We dont have nan values so we can use the whole data as it is."
   ]
  },
  {
   "cell_type": "markdown",
   "id": "f5d9320a-f415-41fd-8cda-04d8b2e581f8",
   "metadata": {},
   "source": [
    "We have 10 news catagory in our data set with unbalanced number as dipicted blow"
   ]
  },
  {
   "cell_type": "code",
   "execution_count": 11,
   "id": "d613e278-1503-471c-a23a-34070dab9b95",
   "metadata": {},
   "outputs": [
    {
     "data": {
      "text/plain": [
       "politics       665\n",
       "health         483\n",
       "agriculture    435\n",
       "education      432\n",
       "technology     432\n",
       "weather        431\n",
       "sports         430\n",
       "economics      344\n",
       "business       315\n",
       "others         294\n",
       "Name: catagory, dtype: int64"
      ]
     },
     "execution_count": 11,
     "metadata": {},
     "output_type": "execute_result"
    }
   ],
   "source": [
    "df['catagory'].value_counts()"
   ]
  },
  {
   "cell_type": "code",
   "execution_count": 12,
   "id": "160875ef-224c-4201-84de-81e792d22276",
   "metadata": {},
   "outputs": [
    {
     "data": {
      "text/plain": [
       "<AxesSubplot:>"
      ]
     },
     "execution_count": 12,
     "metadata": {},
     "output_type": "execute_result"
    },
    {
     "data": {
      "image/png": "[encoded data removed]",
      "text/plain": [
       "<Figure size 432x288 with 1 Axes>"
      ]
     },
     "metadata": {},
     "output_type": "display_data"
    }
   ],
   "source": [
    "df['catagory'].value_counts().plot(kind = 'bar')"
   ]
  },
  {
   "cell_type": "code",
   "execution_count": 9,
   "id": "a2de1494-f9bf-4257-9a5c-c427e9703cf2",
   "metadata": {},
   "outputs": [],
   "source": [
    "def autopct(pct): # only show the label when it's > 10%\n",
    "    return ('%.2f' % pct) + ' %'"
   ]
  },
  {
   "cell_type": "code",
   "execution_count": null,
   "id": "46acd36b-eb0a-4f2f-859a-622316487e2c",
   "metadata": {},
   "outputs": [],
   "source": []
  },
  {
   "cell_type": "code",
   "execution_count": 10,
   "id": "2bf1825b-242b-49b6-a7a0-807c7c8d572e",
   "metadata": {},
   "outputs": [
    {
     "ename": "NameError",
     "evalue": "name 'data' is not defined",
     "output_type": "error",
     "traceback": [
      "\u001b[1;31m---------------------------------------------------------------------------\u001b[0m",
      "\u001b[1;31mNameError\u001b[0m                                 Traceback (most recent call last)",
      "\u001b[1;32m<ipython-input-10-c5cfc9783bb9>\u001b[0m in \u001b[0;36m<module>\u001b[1;34m\u001b[0m\n\u001b[1;32m----> 1\u001b[1;33m \u001b[0mpie\u001b[0m \u001b[1;33m=\u001b[0m \u001b[0mdata\u001b[0m\u001b[1;33m[\u001b[0m\u001b[1;34m'catagory'\u001b[0m\u001b[1;33m]\u001b[0m\u001b[1;33m.\u001b[0m\u001b[0mvalue_counts\u001b[0m\u001b[1;33m(\u001b[0m\u001b[1;33m)\u001b[0m\u001b[1;33m.\u001b[0m\u001b[0mplot\u001b[0m\u001b[1;33m(\u001b[0m\u001b[0mkind\u001b[0m\u001b[1;33m=\u001b[0m\u001b[1;34m'pie'\u001b[0m\u001b[1;33m,\u001b[0m \u001b[0mfigsize\u001b[0m\u001b[1;33m=\u001b[0m\u001b[1;33m(\u001b[0m\u001b[1;36m10\u001b[0m\u001b[1;33m,\u001b[0m\u001b[1;36m8\u001b[0m\u001b[1;33m)\u001b[0m\u001b[1;33m,\u001b[0m \u001b[0mautopct\u001b[0m\u001b[1;33m=\u001b[0m\u001b[0mautopct\u001b[0m\u001b[1;33m,\u001b[0m\u001b[0mfontsize\u001b[0m\u001b[1;33m=\u001b[0m\u001b[1;36m18\u001b[0m\u001b[1;33m)\u001b[0m\u001b[1;33m\u001b[0m\u001b[1;33m\u001b[0m\u001b[0m\n\u001b[0m\u001b[0;32m      2\u001b[0m \u001b[0mfig\u001b[0m \u001b[1;33m=\u001b[0m \u001b[0mpie\u001b[0m\u001b[1;33m.\u001b[0m\u001b[0mget_figure\u001b[0m\u001b[1;33m(\u001b[0m\u001b[1;33m)\u001b[0m\u001b[1;33m\u001b[0m\u001b[1;33m\u001b[0m\u001b[0m\n\u001b[0;32m      3\u001b[0m \u001b[0mpie\u001b[0m\u001b[1;33m.\u001b[0m\u001b[0maxis\u001b[0m\u001b[1;33m(\u001b[0m\u001b[1;34m'off'\u001b[0m\u001b[1;33m)\u001b[0m\u001b[1;33m\u001b[0m\u001b[1;33m\u001b[0m\u001b[0m\n\u001b[0;32m      4\u001b[0m \u001b[0mfig\u001b[0m\u001b[1;33m.\u001b[0m\u001b[0msavefig\u001b[0m\u001b[1;33m(\u001b[0m\u001b[1;34m\"myplot.png\"\u001b[0m\u001b[1;33m)\u001b[0m\u001b[1;33m\u001b[0m\u001b[1;33m\u001b[0m\u001b[0m\n",
      "\u001b[1;31mNameError\u001b[0m: name 'data' is not defined"
     ]
    }
   ],
   "source": [
    "pie = data['catagory'].value_counts().plot(kind='pie', figsize=(10,8), autopct=autopct,fontsize=18)\n",
    "fig = pie.get_figure()\n",
    "pie.axis('off')\n",
    "fig.savefig(\"myplot.png\")"
   ]
  },
  {
   "cell_type": "markdown",
   "id": "24025ca6-59df-4e94-b105-4f8541330cf4",
   "metadata": {},
   "source": [
    "### We have to Deal with Imbalanced class if metrics is Accuracy Or we have to balance the class"
   ]
  },
  {
   "cell_type": "markdown",
   "id": "60dd2c02-0dfd-42aa-bd24-3c7d7847f375",
   "metadata": {},
   "source": [
    "## Preprocessing data "
   ]
  },
  {
   "cell_type": "code",
   "execution_count": 13,
   "id": "cf7a1002-8e3d-432b-8d29-50cca86530c4",
   "metadata": {},
   "outputs": [],
   "source": [
    "def clean_text(text):\n",
    "    '''Make text lowercase, remove text in square brackets,remove links,remove punctuation\n",
    "    and remove words containing numbers.'''\n",
    "    text = text.strip()\n",
    "    text = str(text).lower()\n",
    "    text = re.sub('\\[.*?\\]', '', text)\n",
    "    text = re.sub('https?://\\S+|www\\.\\S+', '', text)\n",
    "    text = re.sub('<.*?>+', '', text)\n",
    "    text = re.sub('[%s]' % re.escape(string.punctuation), '', text)\n",
    "    text = re.sub('\\n', '', text)\n",
    "    text = re.sub('\\w*\\d\\w*', '', text)\n",
    "    return text"
   ]
  },
  {
   "cell_type": "code",
   "execution_count": 14,
   "id": "7a7fd4dc-011d-4ecc-965a-74820d9388c1",
   "metadata": {},
   "outputs": [],
   "source": [
    "df['news'] = df['news'].apply(lambda x:clean_text(x))"
   ]
  },
  {
   "cell_type": "markdown",
   "id": "cf21a2b1-7116-4a91-bf3c-ebfd6dded5ac",
   "metadata": {},
   "source": [
    "### Tokenization and Word Embedding "
   ]
  },
  {
   "cell_type": "markdown",
   "id": "cf0ec119-0d88-4372-a305-59aa9c6248a2",
   "metadata": {},
   "source": [
    "Tokenization is the processess of decomposing a sentence to its subword or word representaiton while word embedding is just vectorization of the token. Here we have two option for word embedding \n",
    "- Train our own word Embedding using fasttext tool\n",
    "- use pretrained vector from fasttext which is trained on large wiki text\n",
    "\n",
    "we will try both to choose the most accurate one\n"
   ]
  },
  {
   "cell_type": "markdown",
   "id": "d034961b-3a18-4a31-91d4-f5f404494a0c",
   "metadata": {},
   "source": [
    "1. Train word embedding using fasstext tool, word embedding can be constructed using two algorithm:\n",
    "    * CBOW and \n",
    "    * Skipgram \n",
    "\n",
    "it turns out skip gram have good performance (citation)\n",
    "\n",
    "Since pretrained vector does not have performance advantage we stick to the vector trained on our data"
   ]
  },
  {
   "cell_type": "code",
   "execution_count": null,
   "id": "b2543a6d-8fdd-44d4-8130-04deb4460d8a",
   "metadata": {},
   "outputs": [],
   "source": [
    "# with open('data/data0.txt', encoding='utf-8-sig') as f:\n",
    "#     dat = f.read()\n",
    "    "
   ]
  },
  {
   "cell_type": "code",
   "execution_count": null,
   "id": "2b88a58a-ae00-4478-92f0-305cc81163df",
   "metadata": {},
   "outputs": [],
   "source": [
    "sentence = []\n",
    "for line in dat.split(' '):\n",
    "    sentence.append(line)\n",
    "    "
   ]
  },
  {
   "cell_type": "code",
   "execution_count": null,
   "id": "84baf603-4f12-4dc2-b3ac-549a38c8c006",
   "metadata": {},
   "outputs": [],
   "source": [
    "def preprocess_data(text):\n",
    "    new_str = text.replace(\"'\", 'h')\n",
    "    # replace all variants of hudhaa (')\n",
    "    new_str = new_str.replace(\"'\", 'h')\n",
    "    new_str = new_str.replace(u'’','h')\n",
    "    new_str = new_str.replace(\"‘\", \"h\");\n",
    "    new_str = new_str.replace(\"`\", \"h\");\n",
    "    new_str = new_str.replace(\"’\", \"h\");\n",
    "    new_str = new_str.replace(\"′\", \"h\");\n",
    "    new_str = new_str.replace(\"︐\", \"h\");\n",
    "    new_str = new_str.replace('(', '')\n",
    "    new_str = new_str.replace(')', '')\n",
    "    return listToString(new_str)"
   ]
  },
  {
   "cell_type": "code",
   "execution_count": null,
   "id": "e6d78369-4bf3-4bab-9444-7bbf07962e1e",
   "metadata": {},
   "outputs": [],
   "source": [
    "words = []\n",
    "for sent in sentence:\n",
    "    words.append(preprocess_data(sent))"
   ]
  },
  {
   "cell_type": "code",
   "execution_count": null,
   "id": "a97a7319-7206-4755-bfcd-fbad938a31b7",
   "metadata": {},
   "outputs": [],
   "source": [
    "def list_to_sent(lst):\n",
    "    return ' '.join(l for l in lst)"
   ]
  },
  {
   "cell_type": "code",
   "execution_count": null,
   "id": "156d99ef-bac2-4b67-a8bf-941fdcde6830",
   "metadata": {},
   "outputs": [],
   "source": [
    "dot = ''\n",
    "for word in words:\n",
    "    dot += ' '+''.join(word)\n",
    "    \n",
    "    "
   ]
  },
  {
   "cell_type": "code",
   "execution_count": null,
   "id": "b475efd2-ba51-4d1b-b8bf-98df9f7477ad",
   "metadata": {},
   "outputs": [],
   "source": [
    "with open('data/data2.txt', 'w', encoding='utf-8-sig') as f:\n",
    "    f.write(dot)"
   ]
  },
  {
   "cell_type": "code",
   "execution_count": null,
   "id": "54ffb91e-c043-43e8-97a0-3b63a1d78c37",
   "metadata": {},
   "outputs": [],
   "source": [
    "# model = fasttext.train_unsupervised('data/data0.txt', model='skipgram', dim=300, epoch=20)"
   ]
  },
  {
   "cell_type": "code",
   "execution_count": null,
   "id": "9d0dc64b-578c-4c3e-853b-81cbe43525fe",
   "metadata": {},
   "outputs": [],
   "source": []
  },
  {
   "cell_type": "code",
   "execution_count": null,
   "id": "1e396e16-4793-4718-8a27-cc22766f618c",
   "metadata": {},
   "outputs": [],
   "source": [
    "# model.save_model('ao_word_emb.bin')"
   ]
  },
  {
   "cell_type": "code",
   "execution_count": 15,
   "id": "62d2ec71-a739-41f9-be1d-631b50fa648b",
   "metadata": {},
   "outputs": [
    {
     "name": "stderr",
     "output_type": "stream",
     "text": [
      "Warning : `load_model` does not return WordVectorModel or SupervisedModel any more, but a `FastText` object which is very similar.\n"
     ]
    },
    {
     "name": "stdout",
     "output_type": "stream",
     "text": [
      "commented\n"
     ]
    }
   ],
   "source": [
    "model_f = fasttext.load_model('text_vec8.bin')\n",
    "print('commented')"
   ]
  },
  {
   "cell_type": "code",
   "execution_count": 16,
   "id": "a67498ca-395e-46da-a5aa-70a6867206bb",
   "metadata": {},
   "outputs": [
    {
     "data": {
      "text/plain": [
       "(300,)"
      ]
     },
     "execution_count": 16,
     "metadata": {},
     "output_type": "execute_result"
    }
   ],
   "source": [
    "aa = model_f.get_word_vector(\"finfinnee\")\n",
    "aa.shape"
   ]
  },
  {
   "cell_type": "markdown",
   "id": "562387a3-4141-454d-b285-df3bec38275d",
   "metadata": {},
   "source": [
    "### Now we have two word embedding, word embedding is good for their word similarity capturing"
   ]
  },
  {
   "cell_type": "code",
   "execution_count": null,
   "id": "5c819590-25fc-4c52-8319-0f521e2bd1ca",
   "metadata": {},
   "outputs": [],
   "source": [
    "lst = [(0.8345069885253906, 'Finfinfinnee'),\n",
    " (0.8171839714050293, 'finfinneef'),\n",
    " (0.6834237575531006, '\"Finfinnee'),\n",
    " (0.6693747639656067, 'finfinneetti'),\n",
    " (0.6625314950942993, 'Finfinnee'),\n",
    " (0.6068439483642578, 'Finifinnee'),\n",
    " (0.5762189030647278, 'Finfinnees'),\n",
    " (0.5683794021606445, 'Finfinnee;'),\n",
    " (0.5603514313697815, 'Fininnee'),\n",
    " (0.5402414202690125, 'Finfinneen')]"
   ]
  },
  {
   "cell_type": "code",
   "execution_count": null,
   "id": "5957460b-9671-4d4a-81d7-94385b74e914",
   "metadata": {},
   "outputs": [],
   "source": [
    "df7 = pd.DataFrame(data=lst, columns =['Vectors', 'Words'])"
   ]
  },
  {
   "cell_type": "code",
   "execution_count": null,
   "id": "5ac00c63-a734-4f15-aa97-3975d82395a9",
   "metadata": {},
   "outputs": [],
   "source": [
    "df6 = df7[['Words', 'Vectors']]"
   ]
  },
  {
   "cell_type": "code",
   "execution_count": null,
   "id": "ee4e116d-36b7-4b3e-ab71-bc89bf6bf633",
   "metadata": {},
   "outputs": [],
   "source": [
    "print(df6.to_latex())"
   ]
  },
  {
   "cell_type": "code",
   "execution_count": null,
   "id": "01ea0f0f-5933-4451-a1e3-c48a0f6d3d00",
   "metadata": {},
   "outputs": [],
   "source": [
    "model.get_nearest_neighbors('hara', k=10, on_unicode_error='strict')"
   ]
  },
  {
   "cell_type": "code",
   "execution_count": null,
   "id": "0d4a6bbb-3a06-474a-9215-baafb8a4ab19",
   "metadata": {},
   "outputs": [],
   "source": [
    "model.get_nearest_neighbors('finfinnee', k=10, on_unicode_error='strict')"
   ]
  },
  {
   "cell_type": "markdown",
   "id": "899f01e1-dcbe-4719-9fef-218eb5a08ec0",
   "metadata": {},
   "source": [
    "It seems it is working but our model more capture temporary relation and the pretrained captured more robust intent, let see another example."
   ]
  },
  {
   "cell_type": "code",
   "execution_count": null,
   "id": "a05d2ce3-1967-41c2-ba06-e0daf18ea00a",
   "metadata": {},
   "outputs": [],
   "source": [
    "model.get_nearest_neighbors('magaalaa', k=20, on_unicode_error='strict')"
   ]
  },
  {
   "cell_type": "markdown",
   "id": "0bdef60d-8d74-49b1-a816-af4ffe547b08",
   "metadata": {},
   "source": [
    "The same again let see one more example"
   ]
  },
  {
   "cell_type": "code",
   "execution_count": null,
   "id": "a076265a-c2f7-4e9e-8633-9dbe148b2e73",
   "metadata": {},
   "outputs": [],
   "source": [
    "model.get_nearest_neighbors('muummee', k=5, on_unicode_error='strict')"
   ]
  },
  {
   "cell_type": "markdown",
   "id": "ee6f188a-f196-4ec8-8dc3-9393c373e919",
   "metadata": {},
   "source": [
    "Here our trained vector have more insight than the pretrained one"
   ]
  },
  {
   "cell_type": "code",
   "execution_count": null,
   "id": "eecfc6e8-bf66-4cb1-8591-ee11d9ecb3ae",
   "metadata": {},
   "outputs": [],
   "source": [
    "model.get_analogies('fayyaa', 'ministeera', 'Dokteera', k=10, on_unicode_error='strict')"
   ]
  },
  {
   "cell_type": "markdown",
   "id": "7653e163-eff0-4572-abc2-601a281e406f",
   "metadata": {},
   "source": [
    "### Tokenize our data set using this vectors"
   ]
  },
  {
   "cell_type": "code",
   "execution_count": 45,
   "id": "62997951-7f63-4436-a6e8-f1f308fe91c1",
   "metadata": {},
   "outputs": [],
   "source": [
    "word_list = model_f.words\n"
   ]
  },
  {
   "cell_type": "code",
   "execution_count": 46,
   "id": "4fc9e887-fbdf-48d9-8255-e8f82e38b66a",
   "metadata": {},
   "outputs": [],
   "source": [
    "def sentence_to_vec(model_,s,tokenizer, wordlist):\n",
    "    words = tokenizer(s)\n",
    "    M = []\n",
    "    for w in words:\n",
    "        if w in wordlist:\n",
    "            M.append(model_.get_word_vector(w))\n",
    "    if len(M) == 0:\n",
    "        return np.zeros(100)\n",
    "    M = np.array(M)\n",
    "    v = M.sum(axis=0)\n",
    "    return v / np.sqrt((v**2).sum()) "
   ]
  },
  {
   "cell_type": "markdown",
   "id": "0904bd42-a7f3-4b13-806a-77c143a88763",
   "metadata": {},
   "source": [
    "### First Let divide the data set to train and test"
   ]
  },
  {
   "cell_type": "code",
   "execution_count": 17,
   "id": "b905f6f9-a0cf-4299-9d3d-46952512c732",
   "metadata": {},
   "outputs": [],
   "source": [
    "data = df.copy(deep=True)\n",
    "datap = df.copy(deep=True)"
   ]
  },
  {
   "cell_type": "code",
   "execution_count": null,
   "id": "2ab99823-f8c8-4dcc-a09b-08ca7bca118a",
   "metadata": {},
   "outputs": [],
   "source": [
    "# data['cat_count'] = data.groupby(['catagory']).cumcount()\n"
   ]
  },
  {
   "cell_type": "code",
   "execution_count": null,
   "id": "6e75dd83-4c92-42c5-8955-89844c09ed74",
   "metadata": {},
   "outputs": [],
   "source": [
    "# data = data[data['cat_count'] < 100]"
   ]
  },
  {
   "cell_type": "code",
   "execution_count": null,
   "id": "29d57c8c-37f9-42d4-81b8-5b5adbec440a",
   "metadata": {},
   "outputs": [],
   "source": [
    "# data.shape"
   ]
  },
  {
   "cell_type": "code",
   "execution_count": null,
   "id": "40374c35-2ad7-4e57-8382-831c2a444099",
   "metadata": {},
   "outputs": [],
   "source": [
    "# df_bal = data[['news', 'catagory']]"
   ]
  },
  {
   "cell_type": "code",
   "execution_count": null,
   "id": "1025326d-11f3-4085-b6f8-b69a84221548",
   "metadata": {},
   "outputs": [],
   "source": [
    "# df_bal.shape\n",
    "def re_assign2(cat):\n",
    "    return 'agriculture' if (cat== 'agriculture' or cat =='weather') else cat"
   ]
  },
  {
   "cell_type": "code",
   "execution_count": 18,
   "id": "34811535-f809-4acb-a1ea-ff5d00cb3982",
   "metadata": {},
   "outputs": [],
   "source": [
    "def re_assign(cat):\n",
    "    return 'finance' if (cat== 'economics' or cat =='business') else cat"
   ]
  },
  {
   "cell_type": "code",
   "execution_count": 20,
   "id": "1c2facc4-43ae-4047-abcd-4f1d450f86f0",
   "metadata": {},
   "outputs": [],
   "source": [
    "data['catagory'] = data['catagory'].apply(re_assign)\n",
    "datap['catagory'] = datap['catagory'].apply(re_assign)\n",
    "data = data[data['catagory']  != 'others']\n",
    "\n",
    "datap = datap[datap['catagory']  != 'others']\n",
    "# data['catagory'].value_counts().plot(kind='pie', figsize=(28,12), autopct=autopct)"
   ]
  },
  {
   "cell_type": "code",
   "execution_count": 22,
   "id": "7c4ce944-71c8-4de8-81cc-d3562a58a5bf",
   "metadata": {},
   "outputs": [
    {
     "data": {
      "text/plain": [
       "politics       665\n",
       "finance        659\n",
       "health         483\n",
       "agriculture    435\n",
       "education      432\n",
       "technology     432\n",
       "weather        431\n",
       "sports         430\n",
       "Name: catagory, dtype: int64"
      ]
     },
     "execution_count": 22,
     "metadata": {},
     "output_type": "execute_result"
    }
   ],
   "source": [
    "datap['catagory'].value_counts()"
   ]
  },
  {
   "cell_type": "code",
   "execution_count": null,
   "id": "f580e884-ec7f-4883-85aa-2c30c556aace",
   "metadata": {},
   "outputs": [],
   "source": [
    "print(data['catagory'].value_counts().to_latex())"
   ]
  },
  {
   "cell_type": "code",
   "execution_count": null,
   "id": "3fd43e13-10cb-4246-aba1-c1e0946491cc",
   "metadata": {},
   "outputs": [],
   "source": [
    "data.shape"
   ]
  },
  {
   "cell_type": "code",
   "execution_count": null,
   "id": "a37ee489-f6e3-49f3-9c6b-4e8bc5721489",
   "metadata": {},
   "outputs": [],
   "source": [
    "df['len'] = df['news'].apply(lambda s : len(s))"
   ]
  },
  {
   "cell_type": "code",
   "execution_count": null,
   "id": "91cc8d70-92f5-4ece-a0b2-4e699d717d0d",
   "metadata": {},
   "outputs": [],
   "source": [
    "df['len'].plot.hist(bins=100)"
   ]
  },
  {
   "cell_type": "code",
   "execution_count": null,
   "id": "4a4bce08-5ea7-467d-b539-b6dead2c83e7",
   "metadata": {},
   "outputs": [],
   "source": [
    "ml = df[df['len'] >=15000]\n",
    "ml"
   ]
  },
  {
   "cell_type": "code",
   "execution_count": 70,
   "id": "92730ad9-b324-410e-b87b-efed7af8f15a",
   "metadata": {},
   "outputs": [],
   "source": [
    "training_data, testing_data = train_test_split(data, test_size=0.2, random_state=43, stratify=data['catagory'])"
   ]
  },
  {
   "cell_type": "code",
   "execution_count": 59,
   "id": "d06bc796-d913-44ef-b784-7f139461267c",
   "metadata": {},
   "outputs": [
    {
     "data": {
      "text/plain": [
       "<AxesSubplot:>"
      ]
     },
     "execution_count": 59,
     "metadata": {},
     "output_type": "execute_result"
    },
    {
     "data": {
      "image/png": "[encoded data removed]",
      "text/plain": [
       "<Figure size 432x288 with 1 Axes>"
      ]
     },
     "metadata": {},
     "output_type": "display_data"
    }
   ],
   "source": [
    "training_data['catagory'].value_counts().plot(kind='bar')"
   ]
  },
  {
   "cell_type": "code",
   "execution_count": 71,
   "id": "28011fb5-4d6f-41ca-9ac4-8a2c3f16af18",
   "metadata": {},
   "outputs": [
    {
     "data": {
      "application/vnd.jupyter.widget-view+json": {
       "model_id": "cce75adf79ca4397a34493a982f8ff52",
       "version_major": 2,
       "version_minor": 0
      },
      "text/plain": [
       "  0%|          | 0/3173 [00:00<?, ?it/s]"
      ]
     },
     "metadata": {},
     "output_type": "display_data"
    }
   ],
   "source": [
    "vectors_train = []\n",
    "# vectors_pre_test = []\n",
    "\n",
    "for text in tqdm(training_data['news'].values,total=training_data.shape[0]):\n",
    "    vectors_train.append(sentence_to_vec(model_f, text,word_tokenize, word_list))\n",
    "#     vectors_pre_train.append(sentence_to_vec(model_pretrained, text,word_tokenize, word_list_pre))"
   ]
  },
  {
   "cell_type": "code",
   "execution_count": 72,
   "id": "139cf4bd-9105-469d-a7e7-2347a5751fd9",
   "metadata": {},
   "outputs": [
    {
     "data": {
      "text/plain": [
       "(3173, 300)"
      ]
     },
     "execution_count": 72,
     "metadata": {},
     "output_type": "execute_result"
    }
   ],
   "source": [
    "vectors_train = np.array(vectors_train)\n",
    "# vectors_pre_test = np.array(vectors_pre_test)\n",
    "\n",
    "vectors_train.shape\n",
    "# vectors_pre_test.shape"
   ]
  },
  {
   "cell_type": "code",
   "execution_count": 23,
   "id": "f278e41b-78be-45a8-8b10-05e353efd4a4",
   "metadata": {},
   "outputs": [],
   "source": [
    "# testing_data['len'].plot.hist(bins=100)"
   ]
  },
  {
   "cell_type": "code",
   "execution_count": 24,
   "id": "4aa47c9e-5081-4cb4-b858-8f8714720791",
   "metadata": {},
   "outputs": [
    {
     "data": {
      "text/plain": [
       "<AxesSubplot:>"
      ]
     },
     "execution_count": 24,
     "metadata": {},
     "output_type": "execute_result"
    },
    {
     "data": {
      "image/png": "[encoded data removed]",
      "text/plain": [
       "<Figure size 432x288 with 1 Axes>"
      ]
     },
     "metadata": {},
     "output_type": "display_data"
    }
   ],
   "source": [
    "testing_data['catagory'].value_counts().plot(kind='bar')"
   ]
  },
  {
   "cell_type": "code",
   "execution_count": 73,
   "id": "e7e02499-24ce-4445-ba23-e2c83b3b64d8",
   "metadata": {},
   "outputs": [
    {
     "data": {
      "application/vnd.jupyter.widget-view+json": {
       "model_id": "449218ca4b0f433492f5ab65a80f1ba2",
       "version_major": 2,
       "version_minor": 0
      },
      "text/plain": [
       "  0%|          | 0/794 [00:00<?, ?it/s]"
      ]
     },
     "metadata": {},
     "output_type": "display_data"
    }
   ],
   "source": [
    "vectors_test = []\n",
    "# vectors_pre_test = []\n",
    "\n",
    "for text in tqdm(testing_data['news'].values,total=testing_data.shape[0]):\n",
    "    vectors_test.append(sentence_to_vec(model_f, text,word_tokenize, word_list))\n",
    "#     vectors_pre_test.append(sentence_to_vec(model_pretrained, text,word_tokenize, word_list_pre))"
   ]
  },
  {
   "cell_type": "code",
   "execution_count": null,
   "id": "425ee6e9-e639-4977-8b85-c7835eb74d8a",
   "metadata": {},
   "outputs": [],
   "source": [
    "for item in range(len(vectors_test)):\n",
    "    if len(vectors_test[item]) < 300:\n",
    "        print(vectors_test[item])"
   ]
  },
  {
   "cell_type": "code",
   "execution_count": 74,
   "id": "718e8a5a-5b8b-4275-b85f-e57e8cc2c000",
   "metadata": {},
   "outputs": [
    {
     "data": {
      "text/plain": [
       "(794, 300)"
      ]
     },
     "execution_count": 74,
     "metadata": {},
     "output_type": "execute_result"
    }
   ],
   "source": [
    "vectors_test = np.array(vectors_test)\n",
    "# vectors_pre_test = np.array(vectors_pre_test)\n",
    "\n",
    "vectors_test.shape\n",
    "# vectors_pre_test.shape\n"
   ]
  },
  {
   "cell_type": "code",
   "execution_count": 27,
   "id": "b6005757-e63d-49bf-bbe5-c17e25e4ab43",
   "metadata": {},
   "outputs": [
    {
     "data": {
      "text/plain": [
       "300"
      ]
     },
     "execution_count": 27,
     "metadata": {},
     "output_type": "execute_result"
    }
   ],
   "source": [
    "len(vectors_test[0])"
   ]
  },
  {
   "cell_type": "code",
   "execution_count": 75,
   "id": "a524a9ee-de6f-4f1e-9ca5-3bac16c38351",
   "metadata": {},
   "outputs": [
    {
     "data": {
      "text/plain": [
       "((3173, 300), (3173,), (794, 300))"
      ]
     },
     "execution_count": 75,
     "metadata": {},
     "output_type": "execute_result"
    }
   ],
   "source": [
    "le = LabelEncoder()\n",
    "\n",
    "yo_train = le.fit_transform(training_data['catagory'].values)\n",
    "yo_test  = le.fit_transform(testing_data['catagory'].values)\n",
    "train  = vectors_train\n",
    "test   = vectors_test\n",
    "train.shape,yo_train.shape,test.shape"
   ]
  },
  {
   "cell_type": "markdown",
   "id": "6e2c2479-1926-4f17-bf95-2ca7158349f6",
   "metadata": {},
   "source": [
    "### Classification using classical machine learning\n",
    "In this section we are going to classify our data using XGBOOST and CATBOOST\n",
    "1. XGBoost Model"
   ]
  },
  {
   "cell_type": "code",
   "execution_count": 76,
   "id": "eeabb422-e23a-4bd9-9508-95634e93be54",
   "metadata": {},
   "outputs": [
    {
     "data": {
      "application/vnd.jupyter.widget-view+json": {
       "model_id": "e8f35605862c4c5eb09c91ad4585adb7",
       "version_major": 2,
       "version_minor": 0
      },
      "text/plain": [
       "  0%|          | 0/5 [00:00<?, ?it/s]"
      ]
     },
     "metadata": {},
     "output_type": "display_data"
    },
    {
     "name": "stdout",
     "output_type": "stream",
     "text": [
      "[0]\tvalidation_0-mlogloss:1.64341\n",
      "[100]\tvalidation_0-mlogloss:0.62362\n",
      "[200]\tvalidation_0-mlogloss:0.62879\n",
      "[300]\tvalidation_0-mlogloss:0.63346\n",
      "[400]\tvalidation_0-mlogloss:0.63564\n",
      "[500]\tvalidation_0-mlogloss:0.63890\n",
      "[600]\tvalidation_0-mlogloss:0.64083\n",
      "[700]\tvalidation_0-mlogloss:0.64259\n",
      "[800]\tvalidation_0-mlogloss:0.64520\n",
      "[900]\tvalidation_0-mlogloss:0.64730\n",
      "[999]\tvalidation_0-mlogloss:0.64950\n",
      "[0]\tvalidation_0-mlogloss:1.69143\n",
      "[100]\tvalidation_0-mlogloss:0.61167\n",
      "[200]\tvalidation_0-mlogloss:0.61486\n",
      "[300]\tvalidation_0-mlogloss:0.61987\n",
      "[400]\tvalidation_0-mlogloss:0.62288\n",
      "[500]\tvalidation_0-mlogloss:0.62541\n",
      "[600]\tvalidation_0-mlogloss:0.62723\n",
      "[700]\tvalidation_0-mlogloss:0.62942\n",
      "[800]\tvalidation_0-mlogloss:0.63115\n",
      "[900]\tvalidation_0-mlogloss:0.63294\n",
      "[999]\tvalidation_0-mlogloss:0.63414\n",
      "[0]\tvalidation_0-mlogloss:1.64840\n",
      "[100]\tvalidation_0-mlogloss:0.54142\n",
      "[200]\tvalidation_0-mlogloss:0.53880\n",
      "[300]\tvalidation_0-mlogloss:0.53753\n",
      "[400]\tvalidation_0-mlogloss:0.53762\n",
      "[500]\tvalidation_0-mlogloss:0.53823\n",
      "[600]\tvalidation_0-mlogloss:0.54011\n",
      "[700]\tvalidation_0-mlogloss:0.54186\n",
      "[800]\tvalidation_0-mlogloss:0.54389\n",
      "[900]\tvalidation_0-mlogloss:0.54563\n",
      "[999]\tvalidation_0-mlogloss:0.54730\n",
      "[0]\tvalidation_0-mlogloss:1.66416\n",
      "[100]\tvalidation_0-mlogloss:0.63477\n",
      "[200]\tvalidation_0-mlogloss:0.64053\n",
      "[300]\tvalidation_0-mlogloss:0.64546\n",
      "[400]\tvalidation_0-mlogloss:0.64780\n",
      "[500]\tvalidation_0-mlogloss:0.64985\n",
      "[600]\tvalidation_0-mlogloss:0.65211\n",
      "[700]\tvalidation_0-mlogloss:0.65354\n",
      "[800]\tvalidation_0-mlogloss:0.65503\n",
      "[900]\tvalidation_0-mlogloss:0.65705\n",
      "[999]\tvalidation_0-mlogloss:0.65807\n",
      "[0]\tvalidation_0-mlogloss:1.63586\n",
      "[100]\tvalidation_0-mlogloss:0.69606\n",
      "[200]\tvalidation_0-mlogloss:0.70580\n",
      "[300]\tvalidation_0-mlogloss:0.70779\n",
      "[400]\tvalidation_0-mlogloss:0.71270\n",
      "[500]\tvalidation_0-mlogloss:0.71603\n",
      "[600]\tvalidation_0-mlogloss:0.71864\n",
      "[700]\tvalidation_0-mlogloss:0.72096\n",
      "[800]\tvalidation_0-mlogloss:0.72217\n",
      "[900]\tvalidation_0-mlogloss:0.72351\n",
      "[999]\tvalidation_0-mlogloss:0.72359\n"
     ]
    }
   ],
   "source": [
    "skf = StratifiedKFold(n_splits=5)\n",
    "val_score = []\n",
    "preds = np.zeros(shape=(testing_data.shape[0],8))\n",
    "for fold,(trn_idx,val_idx) in tqdm(enumerate(skf.split(train,yo_train)),total=5):\n",
    "    X_train,X_val = train[trn_idx],train[val_idx]\n",
    "    y_train,y_val = yo_train[trn_idx],yo_train[val_idx]\n",
    "    clf = xgb.XGBClassifier(objective='multi:softmax',num_class=8,\n",
    "                                  eval_metric='mlogloss', n_estimators=1000)\n",
    "    clf.fit(X_train,y_train,eval_set=[(X_val,y_val)],verbose=100)\n",
    "    val_score.append(accuracy_score(y_val,clf.predict(X_val)))\n",
    "    preds += clf.predict_proba(test)\n",
    "    \n"
   ]
  },
  {
   "cell_type": "markdown",
   "id": "29781658-730f-42bf-a6f1-0741d9708cb8",
   "metadata": {},
   "source": [
    "### CV(Cross Validation) score for XGBoost is   **0.8216929159375204**"
   ]
  },
  {
   "cell_type": "code",
   "execution_count": 66,
   "id": "64bb25b3-cf4f-4bc2-9016-b698d76c3570",
   "metadata": {},
   "outputs": [
    {
     "name": "stdout",
     "output_type": "stream",
     "text": [
      "0.8216909715470866\n"
     ]
    }
   ],
   "source": [
    "print(np.mean(val_score))"
   ]
  },
  {
   "cell_type": "code",
   "execution_count": 79,
   "id": "e7286705-2199-4bfb-a1d3-1b4affed6d1c",
   "metadata": {},
   "outputs": [
    {
     "data": {
      "text/plain": [
       "0.8463476070528967"
      ]
     },
     "execution_count": 79,
     "metadata": {},
     "output_type": "execute_result"
    }
   ],
   "source": [
    "accuracy_score(testing_data['catagory'], label)"
   ]
  },
  {
   "cell_type": "code",
   "execution_count": 78,
   "id": "09a9f9e6-3957-4d9e-b5a8-15f5a5bb79f8",
   "metadata": {},
   "outputs": [
    {
     "name": "stdout",
     "output_type": "stream",
     "text": [
      "              precision    recall  f1-score   support\n",
      "\n",
      " agriculture       0.89      0.87      0.88        87\n",
      "   education       0.90      0.83      0.86        87\n",
      "     finance       0.78      0.79      0.78       132\n",
      "      health       0.88      0.80      0.84        97\n",
      "    politics       0.82      0.89      0.86       133\n",
      "      sports       0.98      0.94      0.96        86\n",
      "  technology       0.73      0.77      0.75        86\n",
      "     weather       0.86      0.88      0.87        86\n",
      "\n",
      "    accuracy                           0.85       794\n",
      "   macro avg       0.86      0.85      0.85       794\n",
      "weighted avg       0.85      0.85      0.85       794\n",
      "\n",
      "\\begin{tabular}{lrrr}\n",
      "\\toprule\n",
      "{} &  precision &    recall &  f1-score \\\\\n",
      "\\midrule\n",
      "agriculture  &   0.894118 &  0.873563 &  0.883721 \\\\\n",
      "education    &   0.900000 &  0.827586 &  0.862275 \\\\\n",
      "finance      &   0.776119 &  0.787879 &  0.781955 \\\\\n",
      "health       &   0.876404 &  0.804124 &  0.838710 \\\\\n",
      "politics     &   0.820690 &  0.894737 &  0.856115 \\\\\n",
      "sports       &   0.975904 &  0.941860 &  0.958580 \\\\\n",
      "technology   &   0.733333 &  0.767442 &  0.750000 \\\\\n",
      "weather      &   0.863636 &  0.883721 &  0.873563 \\\\\n",
      "accuracy     &   0.846348 &  0.846348 &  0.846348 \\\\\n",
      "macro avg    &   0.855026 &  0.847614 &  0.850615 \\\\\n",
      "weighted avg &   0.848824 &  0.846348 &  0.846854 \\\\\n",
      "\\bottomrule\n",
      "\\end{tabular}\n",
      "\n"
     ]
    }
   ],
   "source": [
    "from sklearn.metrics import f1_score, classification_report,accuracy_score \n",
    "\n",
    "preds = preds/5\n",
    "label = le.inverse_transform(np.argmax(preds,axis=-1))\n",
    "label\n",
    "\n",
    "cls_rep = classification_report(testing_data['catagory'], label)\n",
    "dfacc = pd.DataFrame(classification_report(testing_data['catagory'], label, output_dict=True)).T\n",
    "# nw\n",
    "print(cls_rep)\n",
    "dfac = dfacc.drop(columns = ['support'])\n",
    "print(dfac.to_latex())\n"
   ]
  },
  {
   "cell_type": "code",
   "execution_count": null,
   "id": "f2420a3d-0a85-4d25-97b6-102ccfb7b301",
   "metadata": {},
   "outputs": [],
   "source": []
  },
  {
   "cell_type": "code",
   "execution_count": null,
   "id": "9e74af1f-22eb-465d-aee2-7d5bbc610897",
   "metadata": {},
   "outputs": [],
   "source": []
  },
  {
   "cell_type": "code",
   "execution_count": 68,
   "id": "39a5fd9b-6836-4d0b-91a6-d8aceb826336",
   "metadata": {},
   "outputs": [
    {
     "name": "stdout",
     "output_type": "stream",
     "text": [
      "0.8216909715470866\n"
     ]
    }
   ],
   "source": [
    "print(np.mean(val_score))"
   ]
  },
  {
   "cell_type": "code",
   "execution_count": 69,
   "id": "9d123b23-1f83-420b-8303-f3a5a4e81b4b",
   "metadata": {},
   "outputs": [
    {
     "name": "stdout",
     "output_type": "stream",
     "text": [
      "0.8216909715470866\n"
     ]
    }
   ],
   "source": [
    "print(np.mean(val_score))"
   ]
  },
  {
   "cell_type": "code",
   "execution_count": 32,
   "id": "81fa4b12-809f-46d9-bc43-33196868ce3d",
   "metadata": {},
   "outputs": [
    {
     "name": "stdout",
     "output_type": "stream",
     "text": [
      "0.8178300504235079\n"
     ]
    }
   ],
   "source": [
    "print(np.mean(val_score))"
   ]
  },
  {
   "cell_type": "markdown",
   "id": "fba15a34-21f7-40c8-abe0-1845345eddea",
   "metadata": {},
   "source": [
    "#### F1 score for ```xgbboost model``` on test set"
   ]
  },
  {
   "cell_type": "code",
   "execution_count": 33,
   "id": "81c73228-7bd2-4abf-828c-e591b52c1f0f",
   "metadata": {},
   "outputs": [],
   "source": [
    "from sklearn.metrics import f1_score, classification_report,accuracy \n",
    "\n",
    "preds = preds/5\n",
    "label = le.inverse_transform(np.argmax(preds,axis=-1))\n",
    "label\n",
    "\n",
    "cls_rep = classification_report(testing_data['catagory'], label)\n",
    "dfacc = pd.DataFrame(classification_report(testing_data['catagory'], label, output_dict=True)).T"
   ]
  },
  {
   "cell_type": "code",
   "execution_count": 34,
   "id": "6a316e91-cb79-4360-bc5d-763fd1277b9f",
   "metadata": {},
   "outputs": [
    {
     "name": "stdout",
     "output_type": "stream",
     "text": [
      "              precision    recall  f1-score   support\n",
      "\n",
      " agriculture       0.89      0.87      0.88        87\n",
      "   education       0.90      0.83      0.86        87\n",
      "     finance       0.78      0.79      0.78       132\n",
      "      health       0.88      0.80      0.84        97\n",
      "    politics       0.82      0.89      0.86       133\n",
      "      sports       0.98      0.94      0.96        86\n",
      "  technology       0.73      0.77      0.75        86\n",
      "     weather       0.86      0.88      0.87        86\n",
      "\n",
      "    accuracy                           0.85       794\n",
      "   macro avg       0.86      0.85      0.85       794\n",
      "weighted avg       0.85      0.85      0.85       794\n",
      "\n",
      "\\begin{tabular}{lrrr}\n",
      "\\toprule\n",
      "{} &  precision &    recall &  f1-score \\\\\n",
      "\\midrule\n",
      "agriculture  &   0.894118 &  0.873563 &  0.883721 \\\\\n",
      "education    &   0.900000 &  0.827586 &  0.862275 \\\\\n",
      "finance      &   0.776119 &  0.787879 &  0.781955 \\\\\n",
      "health       &   0.876404 &  0.804124 &  0.838710 \\\\\n",
      "politics     &   0.820690 &  0.894737 &  0.856115 \\\\\n",
      "sports       &   0.975904 &  0.941860 &  0.958580 \\\\\n",
      "technology   &   0.733333 &  0.767442 &  0.750000 \\\\\n",
      "weather      &   0.863636 &  0.883721 &  0.873563 \\\\\n",
      "accuracy     &   0.846348 &  0.846348 &  0.846348 \\\\\n",
      "macro avg    &   0.855026 &  0.847614 &  0.850615 \\\\\n",
      "weighted avg &   0.848824 &  0.846348 &  0.846854 \\\\\n",
      "\\bottomrule\n",
      "\\end{tabular}\n",
      "\n"
     ]
    }
   ],
   "source": [
    "# nw\n",
    "print(cls_rep)\n",
    "dfac = dfacc.drop(columns = ['support'])\n",
    "print(dfac.to_latex())"
   ]
  },
  {
   "cell_type": "code",
   "execution_count": 35,
   "id": "791ba7dc-5526-48a9-97ab-d3ea5c3dccb2",
   "metadata": {},
   "outputs": [
    {
     "name": "stdout",
     "output_type": "stream",
     "text": [
      "              precision    recall  f1-score   support\n",
      "\n",
      " agriculture       0.89      0.87      0.88        87\n",
      "   education       0.90      0.83      0.86        87\n",
      "     finance       0.78      0.79      0.78       132\n",
      "      health       0.88      0.80      0.84        97\n",
      "    politics       0.82      0.89      0.86       133\n",
      "      sports       0.98      0.94      0.96        86\n",
      "  technology       0.73      0.77      0.75        86\n",
      "     weather       0.86      0.88      0.87        86\n",
      "\n",
      "    accuracy                           0.85       794\n",
      "   macro avg       0.86      0.85      0.85       794\n",
      "weighted avg       0.85      0.85      0.85       794\n",
      "\n"
     ]
    }
   ],
   "source": [
    "print(cls_rep)"
   ]
  },
  {
   "cell_type": "markdown",
   "id": "bbc60121-2486-4594-a938-70710c67486a",
   "metadata": {},
   "source": [
    "As depicted here the ```f1-score``` is close to CV"
   ]
  },
  {
   "cell_type": "markdown",
   "id": "e2504fb6-604a-46a4-89fc-09719375216c",
   "metadata": {},
   "source": [
    "## CatBoostClassifier"
   ]
  },
  {
   "cell_type": "code",
   "execution_count": null,
   "id": "edef2c92-3c74-488c-b4d8-164ac672889f",
   "metadata": {},
   "outputs": [],
   "source": []
  },
  {
   "cell_type": "code",
   "execution_count": 80,
   "id": "498c7d67-c380-44ed-932a-bd4f0d34b67a",
   "metadata": {},
   "outputs": [
    {
     "data": {
      "application/vnd.jupyter.widget-view+json": {
       "model_id": "fe6b3e1339cb4f84b7ff2b00c1b851d2",
       "version_major": 2,
       "version_minor": 0
      },
      "text/plain": [
       "  0%|          | 0/5 [00:00<?, ?it/s]"
      ]
     },
     "metadata": {},
     "output_type": "display_data"
    },
    {
     "name": "stdout",
     "output_type": "stream",
     "text": [
      "Learning rate set to 0.110006\n",
      "0:\tlearn: 1.9967897\ttest: 2.0030325\tbest: 2.0030325 (0)\ttotal: 1.12s\tremaining: 18m 41s\n",
      "100:\tlearn: 0.3850895\ttest: 0.7324460\tbest: 0.7324460 (100)\ttotal: 1m 2s\tremaining: 9m 16s\n",
      "200:\tlearn: 0.2263667\ttest: 0.6331853\tbest: 0.6331853 (200)\ttotal: 1m 56s\tremaining: 7m 41s\n",
      "300:\tlearn: 0.1630349\ttest: 0.5903782\tbest: 0.5901231 (299)\ttotal: 2m 51s\tremaining: 6m 39s\n",
      "400:\tlearn: 0.1246656\ttest: 0.5658742\tbest: 0.5658742 (400)\ttotal: 3m 57s\tremaining: 5m 54s\n",
      "500:\tlearn: 0.0973242\ttest: 0.5520698\tbest: 0.5520698 (500)\ttotal: 4m 56s\tremaining: 4m 55s\n",
      "600:\tlearn: 0.0780466\ttest: 0.5444953\tbest: 0.5443931 (598)\ttotal: 5m 59s\tremaining: 3m 58s\n",
      "700:\tlearn: 0.0641716\ttest: 0.5382457\tbest: 0.5382457 (700)\ttotal: 7m 2s\tremaining: 3m\n",
      "800:\tlearn: 0.0532996\ttest: 0.5331641\tbest: 0.5331641 (800)\ttotal: 8m 9s\tremaining: 2m 1s\n",
      "900:\tlearn: 0.0453263\ttest: 0.5280638\tbest: 0.5277571 (884)\ttotal: 9m 13s\tremaining: 1m\n",
      "999:\tlearn: 0.0399553\ttest: 0.5253119\tbest: 0.5252656 (995)\ttotal: 10m 17s\tremaining: 0us\n",
      "\n",
      "bestTest = 0.5252656191\n",
      "bestIteration = 995\n",
      "\n",
      "Shrink model to first 996 iterations.\n",
      "Learning rate set to 0.110006\n",
      "0:\tlearn: 2.0022601\ttest: 2.0176653\tbest: 2.0176653 (0)\ttotal: 695ms\tremaining: 11m 34s\n",
      "100:\tlearn: 0.3945408\ttest: 0.7215495\tbest: 0.7215495 (100)\ttotal: 1m 10s\tremaining: 10m 29s\n",
      "200:\tlearn: 0.2328758\ttest: 0.6158209\tbest: 0.6158209 (200)\ttotal: 2m 14s\tremaining: 8m 53s\n",
      "300:\tlearn: 0.1618982\ttest: 0.5768080\tbest: 0.5768077 (299)\ttotal: 3m 22s\tremaining: 7m 50s\n",
      "400:\tlearn: 0.1238557\ttest: 0.5522891\tbest: 0.5520928 (397)\ttotal: 4m 28s\tremaining: 6m 40s\n",
      "500:\tlearn: 0.0980042\ttest: 0.5392682\tbest: 0.5392682 (500)\ttotal: 5m 35s\tremaining: 5m 34s\n",
      "600:\tlearn: 0.0810745\ttest: 0.5315665\tbest: 0.5315665 (600)\ttotal: 6m 41s\tremaining: 4m 26s\n",
      "700:\tlearn: 0.0672305\ttest: 0.5221200\tbest: 0.5221200 (700)\ttotal: 7m 51s\tremaining: 3m 21s\n",
      "800:\tlearn: 0.0564611\ttest: 0.5152452\tbest: 0.5149706 (795)\ttotal: 8m 55s\tremaining: 2m 12s\n",
      "900:\tlearn: 0.0486478\ttest: 0.5079419\tbest: 0.5078905 (899)\ttotal: 9m 58s\tremaining: 1m 5s\n",
      "999:\tlearn: 0.0429640\ttest: 0.5051044\tbest: 0.5050089 (990)\ttotal: 11m 8s\tremaining: 0us\n",
      "\n",
      "bestTest = 0.5050088779\n",
      "bestIteration = 990\n",
      "\n",
      "Shrink model to first 991 iterations.\n",
      "Learning rate set to 0.110006\n",
      "0:\tlearn: 1.9868941\ttest: 1.9919705\tbest: 1.9919705 (0)\ttotal: 691ms\tremaining: 11m 30s\n",
      "100:\tlearn: 0.3990121\ttest: 0.6920844\tbest: 0.6920844 (100)\ttotal: 1m 13s\tremaining: 10m 55s\n",
      "200:\tlearn: 0.2362488\ttest: 0.5731759\tbest: 0.5731759 (200)\ttotal: 2m 26s\tremaining: 9m 43s\n",
      "300:\tlearn: 0.1675970\ttest: 0.5256668\tbest: 0.5256668 (300)\ttotal: 3m 35s\tremaining: 8m 21s\n",
      "400:\tlearn: 0.1259032\ttest: 0.4987910\tbest: 0.4987910 (400)\ttotal: 4m 42s\tremaining: 7m 1s\n",
      "500:\tlearn: 0.0982218\ttest: 0.4758846\tbest: 0.4758049 (499)\ttotal: 5m 54s\tremaining: 5m 53s\n",
      "600:\tlearn: 0.0803949\ttest: 0.4679484\tbest: 0.4678475 (599)\ttotal: 7m 4s\tremaining: 4m 41s\n",
      "700:\tlearn: 0.0661226\ttest: 0.4581385\tbest: 0.4581385 (700)\ttotal: 8m 13s\tremaining: 3m 30s\n",
      "800:\tlearn: 0.0557793\ttest: 0.4492641\tbest: 0.4492641 (800)\ttotal: 9m 26s\tremaining: 2m 20s\n",
      "900:\tlearn: 0.0479538\ttest: 0.4455814\tbest: 0.4454386 (897)\ttotal: 10m 38s\tremaining: 1m 10s\n",
      "999:\tlearn: 0.0421269\ttest: 0.4402172\tbest: 0.4402172 (999)\ttotal: 11m 47s\tremaining: 0us\n",
      "\n",
      "bestTest = 0.4402171962\n",
      "bestIteration = 999\n",
      "\n",
      "Learning rate set to 0.110007\n",
      "0:\tlearn: 1.9999509\ttest: 2.0044309\tbest: 2.0044309 (0)\ttotal: 855ms\tremaining: 14m 14s\n",
      "100:\tlearn: 0.3798873\ttest: 0.7340512\tbest: 0.7340512 (100)\ttotal: 1m 15s\tremaining: 11m 13s\n",
      "200:\tlearn: 0.2162642\ttest: 0.6293710\tbest: 0.6293710 (200)\ttotal: 2m 30s\tremaining: 9m 58s\n",
      "300:\tlearn: 0.1515037\ttest: 0.5937859\tbest: 0.5937859 (300)\ttotal: 3m 41s\tremaining: 8m 35s\n",
      "400:\tlearn: 0.1146684\ttest: 0.5701803\tbest: 0.5701803 (400)\ttotal: 4m 54s\tremaining: 7m 20s\n",
      "500:\tlearn: 0.0888580\ttest: 0.5540115\tbest: 0.5540115 (500)\ttotal: 6m 3s\tremaining: 6m 1s\n",
      "600:\tlearn: 0.0712544\ttest: 0.5427090\tbest: 0.5427090 (600)\ttotal: 7m 8s\tremaining: 4m 44s\n",
      "700:\tlearn: 0.0581235\ttest: 0.5348630\tbest: 0.5348630 (700)\ttotal: 8m 15s\tremaining: 3m 31s\n",
      "800:\tlearn: 0.0485339\ttest: 0.5316247\tbest: 0.5312210 (794)\ttotal: 9m 15s\tremaining: 2m 18s\n",
      "900:\tlearn: 0.0416954\ttest: 0.5289988\tbest: 0.5284061 (861)\ttotal: 10m 15s\tremaining: 1m 7s\n",
      "999:\tlearn: 0.0363085\ttest: 0.5274133\tbest: 0.5268392 (988)\ttotal: 11m 16s\tremaining: 0us\n",
      "\n",
      "bestTest = 0.5268391529\n",
      "bestIteration = 988\n",
      "\n",
      "Shrink model to first 989 iterations.\n",
      "Learning rate set to 0.110007\n",
      "0:\tlearn: 2.0075456\ttest: 2.0166978\tbest: 2.0166978 (0)\ttotal: 671ms\tremaining: 11m 10s\n",
      "100:\tlearn: 0.3908770\ttest: 0.7285479\tbest: 0.7285479 (100)\ttotal: 1m 7s\tremaining: 9m 57s\n",
      "200:\tlearn: 0.2202998\ttest: 0.6250149\tbest: 0.6250149 (200)\ttotal: 2m 9s\tremaining: 8m 35s\n",
      "300:\tlearn: 0.1565126\ttest: 0.5879276\tbest: 0.5879276 (300)\ttotal: 3m 11s\tremaining: 7m 24s\n",
      "400:\tlearn: 0.1156639\ttest: 0.5649165\tbest: 0.5649165 (400)\ttotal: 4m 17s\tremaining: 6m 23s\n",
      "500:\tlearn: 0.0906712\ttest: 0.5523042\tbest: 0.5523042 (500)\ttotal: 5m 15s\tremaining: 5m 14s\n",
      "600:\tlearn: 0.0724417\ttest: 0.5472770\tbest: 0.5465578 (568)\ttotal: 6m 21s\tremaining: 4m 13s\n",
      "700:\tlearn: 0.0601382\ttest: 0.5420774\tbest: 0.5417343 (691)\ttotal: 7m 27s\tremaining: 3m 10s\n",
      "800:\tlearn: 0.0504920\ttest: 0.5351376\tbest: 0.5349249 (787)\ttotal: 8m 31s\tremaining: 2m 7s\n",
      "900:\tlearn: 0.0434400\ttest: 0.5324921\tbest: 0.5324870 (894)\ttotal: 9m 30s\tremaining: 1m 2s\n",
      "999:\tlearn: 0.0377656\ttest: 0.5285064\tbest: 0.5285064 (999)\ttotal: 10m 31s\tremaining: 0us\n",
      "\n",
      "bestTest = 0.528506373\n",
      "bestIteration = 999\n",
      "\n"
     ]
    }
   ],
   "source": [
    "skf = StratifiedKFold(n_splits=5)\n",
    "val_score = []\n",
    "preds = np.zeros(shape=(testing_data.shape[0],8))\n",
    "for fold,(trn_idx,val_idx) in tqdm(enumerate(skf.split(train,yo_train)),total=5):\n",
    "    X_train,X_val = train[trn_idx],train[val_idx]\n",
    "    y_train,y_val = yo_train[trn_idx],yo_train[val_idx]\n",
    "    clf = CatBoostClassifier(loss_function='MultiClass')\n",
    "    clf.fit(X_train,y_train,eval_set=[(X_val,y_val)],verbose=100)\n",
    "    val_score.append(accuracy_score(y_val,clf.predict(X_val)))\n",
    "    preds += clf.predict_proba(test)"
   ]
  },
  {
   "cell_type": "markdown",
   "id": "7940f8d5-8381-4385-bd7f-1500224be288",
   "metadata": {},
   "source": [
    "### CV(Cross Validation) score for CatBoost is   **0.833221206818329**"
   ]
  },
  {
   "cell_type": "code",
   "execution_count": 81,
   "id": "fe746277-8bdd-4eb2-aa75-8e316a8ef2f4",
   "metadata": {},
   "outputs": [],
   "source": [
    "from sklearn.metrics import f1_score\n",
    "\n",
    "preds = preds/5\n",
    "label = le.inverse_transform(np.argmax(preds,axis=-1))\n",
    "label\n",
    "\n",
    "f1_score = f1_score(testing_data['catagory'], label, average='micro')\n"
   ]
  },
  {
   "cell_type": "code",
   "execution_count": 82,
   "id": "aa145598-8442-4406-a887-fd4e6f3eac20",
   "metadata": {},
   "outputs": [
    {
     "name": "stdout",
     "output_type": "stream",
     "text": [
      "0.8405246031943168\n"
     ]
    }
   ],
   "source": [
    "print(np.mean(val_score))"
   ]
  },
  {
   "cell_type": "code",
   "execution_count": 85,
   "id": "8cc6d2a0-af8e-4bc8-8199-048d9b75d320",
   "metadata": {},
   "outputs": [
    {
     "data": {
      "text/plain": [
       "0.8627204030226701"
      ]
     },
     "execution_count": 85,
     "metadata": {},
     "output_type": "execute_result"
    }
   ],
   "source": [
    "accuracy_score(testing_data['catagory'], label)"
   ]
  },
  {
   "cell_type": "code",
   "execution_count": 83,
   "id": "86dfd0ef-ee8c-4a4b-8563-b70ed6d5547c",
   "metadata": {},
   "outputs": [
    {
     "name": "stdout",
     "output_type": "stream",
     "text": [
      "              precision    recall  f1-score   support\n",
      "\n",
      " agriculture       0.89      0.87      0.88        87\n",
      "   education       0.92      0.84      0.88        87\n",
      "     finance       0.79      0.81      0.80       132\n",
      "      health       0.86      0.84      0.85        97\n",
      "    politics       0.85      0.92      0.88       133\n",
      "      sports       1.00      0.95      0.98        86\n",
      "  technology       0.79      0.79      0.79        86\n",
      "     weather       0.85      0.88      0.87        86\n",
      "\n",
      "    accuracy                           0.86       794\n",
      "   macro avg       0.87      0.86      0.87       794\n",
      "weighted avg       0.86      0.86      0.86       794\n",
      "\n",
      "\\begin{tabular}{lrrr}\n",
      "\\toprule\n",
      "{} &  precision &    recall &  f1-score \\\\\n",
      "\\midrule\n",
      "agriculture  &   0.894118 &  0.873563 &  0.883721 \\\\\n",
      "education    &   0.924051 &  0.839080 &  0.879518 \\\\\n",
      "finance      &   0.786765 &  0.810606 &  0.798507 \\\\\n",
      "health       &   0.861702 &  0.835052 &  0.848168 \\\\\n",
      "politics     &   0.853147 &  0.917293 &  0.884058 \\\\\n",
      "sports       &   1.000000 &  0.953488 &  0.976190 \\\\\n",
      "technology   &   0.790698 &  0.790698 &  0.790698 \\\\\n",
      "weather      &   0.853933 &  0.883721 &  0.868571 \\\\\n",
      "accuracy     &   0.862720 &  0.862720 &  0.862720 \\\\\n",
      "macro avg    &   0.870552 &  0.862938 &  0.866179 \\\\\n",
      "weighted avg &   0.864642 &  0.862720 &  0.863106 \\\\\n",
      "\\bottomrule\n",
      "\\end{tabular}\n",
      "\n"
     ]
    }
   ],
   "source": [
    "# new \n",
    "f1_score\n",
    "print(classification_report(testing_data['catagory'], label))\n",
    "dfaccatbo = pd.DataFrame(classification_report(testing_data['catagory'], label, output_dict=True)).T\n",
    "dfaccatbo.drop(columns=['support'], inplace=True)\n",
    "print(dfaccatbo.to_latex())"
   ]
  },
  {
   "cell_type": "code",
   "execution_count": 84,
   "id": "5a5c5ae9-dfb3-47eb-b380-da7b2e86181d",
   "metadata": {},
   "outputs": [
    {
     "name": "stdout",
     "output_type": "stream",
     "text": [
      "              precision    recall  f1-score   support\n",
      "\n",
      " agriculture       0.89      0.87      0.88        87\n",
      "   education       0.92      0.84      0.88        87\n",
      "     finance       0.79      0.81      0.80       132\n",
      "      health       0.86      0.84      0.85        97\n",
      "    politics       0.85      0.92      0.88       133\n",
      "      sports       1.00      0.95      0.98        86\n",
      "  technology       0.79      0.79      0.79        86\n",
      "     weather       0.85      0.88      0.87        86\n",
      "\n",
      "    accuracy                           0.86       794\n",
      "   macro avg       0.87      0.86      0.87       794\n",
      "weighted avg       0.86      0.86      0.86       794\n",
      "\n",
      "\\begin{tabular}{lrrr}\n",
      "\\toprule\n",
      "{} &  precision &    recall &  f1-score \\\\\n",
      "\\midrule\n",
      "agriculture  &   0.894118 &  0.873563 &  0.883721 \\\\\n",
      "education    &   0.924051 &  0.839080 &  0.879518 \\\\\n",
      "finance      &   0.786765 &  0.810606 &  0.798507 \\\\\n",
      "health       &   0.861702 &  0.835052 &  0.848168 \\\\\n",
      "politics     &   0.853147 &  0.917293 &  0.884058 \\\\\n",
      "sports       &   1.000000 &  0.953488 &  0.976190 \\\\\n",
      "technology   &   0.790698 &  0.790698 &  0.790698 \\\\\n",
      "weather      &   0.853933 &  0.883721 &  0.868571 \\\\\n",
      "accuracy     &   0.862720 &  0.862720 &  0.862720 \\\\\n",
      "macro avg    &   0.870552 &  0.862938 &  0.866179 \\\\\n",
      "weighted avg &   0.864642 &  0.862720 &  0.863106 \\\\\n",
      "\\bottomrule\n",
      "\\end{tabular}\n",
      "\n"
     ]
    }
   ],
   "source": [
    "# new \n",
    "f1_score\n",
    "print(classification_report(testing_data['catagory'], label))\n",
    "dfaccatbo = pd.DataFrame(classification_report(testing_data['catagory'], label, output_dict=True)).T\n",
    "dfaccatbo.drop(columns=['support'], inplace=True)\n",
    "print(dfaccatbo.to_latex())"
   ]
  },
  {
   "cell_type": "code",
   "execution_count": 64,
   "id": "b917e602-086e-44fe-a5ba-ad5681af1bcd",
   "metadata": {},
   "outputs": [
    {
     "name": "stdout",
     "output_type": "stream",
     "text": [
      "              precision    recall  f1-score   support\n",
      "\n",
      " agriculture       0.90      0.82      0.85       130\n",
      "   education       0.91      0.84      0.87       130\n",
      "     finance       0.75      0.82      0.78       198\n",
      "      health       0.86      0.83      0.85       145\n",
      "    politics       0.85      0.90      0.87       200\n",
      "      sports       0.98      0.94      0.96       129\n",
      "  technology       0.77      0.76      0.76       130\n",
      "     weather       0.87      0.88      0.88       129\n",
      "\n",
      "    accuracy                           0.85      1191\n",
      "   macro avg       0.86      0.85      0.85      1191\n",
      "weighted avg       0.85      0.85      0.85      1191\n",
      "\n"
     ]
    }
   ],
   "source": [
    "f1_score\n",
    "print(classification_report(testing_data['catagory'], label))"
   ]
  },
  {
   "cell_type": "markdown",
   "id": "58def8e2-e62a-4d6c-93c6-6448e3744272",
   "metadata": {},
   "source": [
    "So it evidant from the result that pretrained vector are inefficient"
   ]
  },
  {
   "cell_type": "code",
   "execution_count": 69,
   "id": "7b107b9e-5335-4279-a532-402be1e25b02",
   "metadata": {},
   "outputs": [
    {
     "data": {
      "text/plain": [
       "3967"
      ]
     },
     "execution_count": 69,
     "metadata": {},
     "output_type": "execute_result"
    }
   ],
   "source": [
    "le = LabelEncoder()\n",
    "\n",
    "yo_train = le.fit_transform(training_data['catagory'].values)\n",
    "yo_test  = le.fit_transform(testing_data['catagory'].values)\n",
    "train  = vectors_train\n",
    "test   = vectors_test\n",
    "train.shape,yo_train.shape\n",
    "yo_test.shape[0] + yo_train.shape[0]"
   ]
  },
  {
   "cell_type": "markdown",
   "id": "2428ae5e-75f2-4fed-bcc8-eff71d70e1b2",
   "metadata": {},
   "source": [
    "## Deep Learning classification \n",
    "In this part we are going to test how deep learning model can word on this data set\n",
    "\n",
    "still we have to deal with class imbalance \n",
    "we use pytorch frame work"
   ]
  },
  {
   "cell_type": "code",
   "execution_count": 70,
   "id": "ec9a1ce4-9e3b-45ea-87b8-f2fdbcaf8865",
   "metadata": {},
   "outputs": [],
   "source": [
    "import torch\n",
    "import torch.nn as nn\n",
    "import torch.optim as optim\n",
    "from torch.utils.data import Dataset, DataLoader, WeightedRandomSampler\n",
    "\n",
    "from sklearn.preprocessing import MinMaxScaler    \n",
    "from sklearn.model_selection import train_test_split\n",
    "from sklearn.metrics import confusion_matrix, classification_report"
   ]
  },
  {
   "cell_type": "code",
   "execution_count": 71,
   "id": "9e277e71-fb54-442d-ad6b-cd379d7148e9",
   "metadata": {},
   "outputs": [],
   "source": [
    "X_train, X_val, y_train, y_val = train_test_split(train, yo_train, test_size=0.2, stratify=yo_train, random_state=43)"
   ]
  },
  {
   "cell_type": "code",
   "execution_count": null,
   "id": "0e14bc6d-2dc4-405a-a79a-6a893af66308",
   "metadata": {},
   "outputs": [],
   "source": [
    "X_train.shape"
   ]
  },
  {
   "cell_type": "code",
   "execution_count": null,
   "id": "4857a77a-bab8-4ace-92d8-c2ffa4606108",
   "metadata": {},
   "outputs": [],
   "source": [
    "# x_class, y_count  = numpy.unique(y_train, return_counts=True)\n",
    "# x_class_val, y_count_val  = numpy.unique(y_val, return_counts=True)\n",
    "# x_class_tes, y_count_test  = numpy.unique(y_test, return_counts=True)"
   ]
  },
  {
   "cell_type": "code",
   "execution_count": null,
   "id": "dca80e4b-d9ab-47ea-9af1-0dfa92d44a46",
   "metadata": {},
   "outputs": [],
   "source": [
    "sns.set_theme(style=\"darkgrid\")\n",
    "sns.set(rc={'figure.figsize':(11.7,8.27)})\n",
    "ax = sns.countplot(x=\"catagory\", data=data)"
   ]
  },
  {
   "cell_type": "code",
   "execution_count": null,
   "id": "8cee29b7-809c-4924-a322-eb01bea4f522",
   "metadata": {},
   "outputs": [],
   "source": []
  },
  {
   "cell_type": "code",
   "execution_count": 72,
   "id": "a85d341f-43b4-49ff-9c3c-1820a7fadcc1",
   "metadata": {},
   "outputs": [],
   "source": [
    "class ClassifierDataset(Dataset):\n",
    "    \n",
    "    def __init__(self, X_data, y_data):\n",
    "        self.X_data = X_data\n",
    "        self.y_data = y_data\n",
    "        \n",
    "    def __getitem__(self, index):\n",
    "        return self.X_data[index], self.y_data[index]\n",
    "        \n",
    "    def __len__ (self):\n",
    "        return len(self.X_data)\n",
    "\n",
    "\n",
    "train_dataset = ClassifierDataset(torch.from_numpy(X_train).float(), torch.from_numpy(y_train).long())\n",
    "val_dataset = ClassifierDataset(torch.from_numpy(X_val).float(), torch.from_numpy(y_val).long())\n",
    "test_dataset = ClassifierDataset(torch.from_numpy(test).float(), torch.from_numpy(yo_test).long())"
   ]
  },
  {
   "cell_type": "code",
   "execution_count": 74,
   "id": "05c44748-da57-4ad6-bde4-74af72243144",
   "metadata": {},
   "outputs": [
    {
     "name": "stdout",
     "output_type": "stream",
     "text": [
      "cpu\n"
     ]
    },
    {
     "data": {
      "text/plain": [
       "44400"
      ]
     },
     "execution_count": 74,
     "metadata": {},
     "output_type": "execute_result"
    }
   ],
   "source": [
    "EPOCHS = 200\n",
    "BATCH_SIZE = 10\n",
    "LEARNING_RATE =4e-5\n",
    "NUM_FEATURES = train.shape[1]\n",
    "NUM_CLASSES = 8\n",
    "USE_SWA = False\n",
    "SWA_RATIO = 0.9\n",
    "WARMUP_RATIO = 0.25\n",
    "WEIGHT_DECAY = 0.001\n",
    "SWA_FREQ = 30\n",
    "num_train_steps =  int(len(X_train) / BATCH_SIZE * EPOCHS)\n",
    "device = torch.device(\"cuda:0\" if torch.cuda.is_available() else \"cpu\")\n",
    "print(device)\n",
    "num_train_steps"
   ]
  },
  {
   "cell_type": "code",
   "execution_count": 75,
   "id": "a77779c7-3e47-4679-93f0-9ba8d48218c1",
   "metadata": {},
   "outputs": [],
   "source": [
    "train_loader = DataLoader(dataset=train_dataset,\n",
    "                          batch_size=BATCH_SIZE,\n",
    "                          )\n",
    "val_loader = DataLoader(dataset=val_dataset, batch_size=1)\n",
    "test_loader = DataLoader(dataset=test_dataset, batch_size=1)"
   ]
  },
  {
   "cell_type": "code",
   "execution_count": null,
   "id": "fb6eb20c-956d-4a9f-a161-e6661267aae4",
   "metadata": {},
   "outputs": [],
   "source": [
    "x  = test_loader"
   ]
  },
  {
   "cell_type": "code",
   "execution_count": 95,
   "id": "929789a5-7294-4da7-8654-aaf5da23a5c8",
   "metadata": {},
   "outputs": [],
   "source": [
    "class MulticlassClassification(nn.Module):\n",
    "    def __init__(self, num_feature, num_class):\n",
    "        super(MulticlassClassification, self).__init__()\n",
    "        \n",
    "        self.layer_1 = nn.Linear(num_feature, 128)\n",
    "        self.layer_2 = nn.Linear(128, 64)\n",
    "        self.layer_out = nn.Linear(64, num_class) \n",
    "        \n",
    "        self.relu = nn.ReLU()\n",
    "        self.dropout = nn.Dropout(p=0.5)\n",
    "\n",
    "        self.batchnorm1 = nn.BatchNorm1d(128)\n",
    "        self.batchnorm2 = nn.BatchNorm1d(64)\n",
    "        \n",
    "    def forward(self, x):\n",
    "        x = self.layer_1(x)\n",
    "        x = self.batchnorm1(x)\n",
    "        x = self.relu(x)\n",
    "        x = self.dropout(x)\n",
    "        \n",
    "        x = self.layer_2(x)\n",
    "        x = self.batchnorm2(x)\n",
    "        x = self.relu(x)\n",
    "        x = self.dropout(x)\n",
    "        \n",
    "        x = self.layer_out(x)\n",
    "        \n",
    "        return x"
   ]
  },
  {
   "cell_type": "code",
   "execution_count": 96,
   "id": "0eb4d936-db9e-472e-b8d1-b124211b5af5",
   "metadata": {},
   "outputs": [],
   "source": [
    "# model = MulticlassClassification(num_feature = NUM_FEATURES, num_class=NUM_CLASSES)\n",
    "# model.to(device)\n",
    "# # optimizer = noptim.SGD(model, 0.1)\n",
    "# scheduler = torch.optim.lr_scheduler.ExponentialLR(optimizer, gamma=0.9)\n",
    "\n",
    "# optimizer = optim.AdamW(model.parameters(), lr=LEARNING_RATE)\n"
   ]
  },
  {
   "cell_type": "code",
   "execution_count": 97,
   "id": "f2d2f68f-4d5e-4b07-a4e0-d10858d69c36",
   "metadata": {},
   "outputs": [],
   "source": [
    "model = MulticlassClassification(num_feature = NUM_FEATURES, num_class=NUM_CLASSES)\n",
    "model.to(device)\n",
    "criterion = nn.CrossEntropyLoss()\n",
    "param_optimizer = list(model.named_parameters())\n",
    "no_decay = [\"bias\", \"LayerNorm.bias\", \"LayerNorm.weight\"]\n",
    "\n",
    "optimizer_parameters = [\n",
    "    {\n",
    "        \"params\": [\n",
    "            p for n, p in param_optimizer if not any(nd in n for nd in no_decay)\n",
    "        ],\n",
    "        \"weight_decay\": WEIGHT_DECAY,\n",
    "    },\n",
    "    {\n",
    "        \"params\": [\n",
    "            p for n, p in param_optimizer if any(nd in n for nd in no_decay)\n",
    "        ],\n",
    "        \"weight_decay\": 0.0,\n",
    "    },\n",
    "]\n",
    "base_opt = transformers.AdamW(optimizer_parameters, lr=LEARNING_RATE)\n",
    "optimizer = torchcontrib.optim.SWA(\n",
    "    base_opt,\n",
    "    swa_start=int(num_train_steps * SWA_RATIO),\n",
    "    swa_freq=SWA_FREQ,\n",
    "    swa_lr=None,\n",
    ")\n",
    "\n",
    "scheduler = transformers.get_linear_schedule_with_warmup(\n",
    "    optimizer=optimizer,\n",
    "    num_warmup_steps=int(num_train_steps * WARMUP_RATIO),\n",
    "    num_training_steps=num_train_steps,\n",
    ")\n",
    "if USE_SWA:\n",
    "    optimizer.swap_swa_sgd()\n",
    "        "
   ]
  },
  {
   "cell_type": "code",
   "execution_count": 98,
   "id": "3bee6991-02ce-4e17-81b1-415b2c1e255f",
   "metadata": {},
   "outputs": [],
   "source": [
    "def multi_acc(y_pred, y_test):\n",
    "    y_pred_softmax = torch.log_softmax(y_pred, dim = 1)\n",
    "    _, y_pred_tags = torch.max(y_pred_softmax, dim = 1)    \n",
    "    \n",
    "    correct_pred = (y_pred_tags == y_test).float()\n",
    "    acc = correct_pred.sum() / len(correct_pred)\n",
    "    \n",
    "    acc = torch.round(acc * 100)\n",
    "    \n",
    "    return acc"
   ]
  },
  {
   "cell_type": "code",
   "execution_count": 99,
   "id": "fdfab469-a636-4e90-bbe3-4b442de66ef9",
   "metadata": {},
   "outputs": [],
   "source": [
    "accuracy_stats = {\n",
    "    'train': [],\n",
    "    \"val\": []\n",
    "}\n",
    "loss_stats = {\n",
    "    'train': [],\n",
    "    \"val\": []\n",
    "}"
   ]
  },
  {
   "cell_type": "code",
   "execution_count": 100,
   "id": "8a227e62-5d76-4503-98ab-056f43811b5c",
   "metadata": {},
   "outputs": [
    {
     "data": {
      "text/plain": [
       "1191"
      ]
     },
     "execution_count": 100,
     "metadata": {},
     "output_type": "execute_result"
    }
   ],
   "source": [
    "len(test_loader)"
   ]
  },
  {
   "cell_type": "code",
   "execution_count": 101,
   "id": "1a3d6d19-d6b5-48af-b866-0ddce5c41706",
   "metadata": {},
   "outputs": [
    {
     "name": "stdout",
     "output_type": "stream",
     "text": [
      "Begin training.\n"
     ]
    },
    {
     "data": {
      "application/vnd.jupyter.widget-view+json": {
       "model_id": "8d36356ff9004448bb5b6867ff205694",
       "version_major": 2,
       "version_minor": 0
      },
      "text/plain": [
       "  0%|          | 0/200 [00:00<?, ?it/s]"
      ]
     },
     "metadata": {},
     "output_type": "display_data"
    },
    {
     "name": "stdout",
     "output_type": "stream",
     "text": [
      "Epoch 010: | Train Loss: 2.07514 | Val Loss: 1.99149 | Train Acc: 18.153| Val Acc: 25.540\n",
      "Epoch 020: | Train Loss: 1.79196 | Val Loss: 1.69461 | Train Acc: 35.225| Val Acc: 63.669\n",
      "Epoch 030: | Train Loss: 1.48131 | Val Loss: 1.37089 | Train Acc: 54.009| Val Acc: 74.101\n",
      "Epoch 040: | Train Loss: 1.17682 | Val Loss: 1.05959 | Train Acc: 67.928| Val Acc: 78.237\n",
      "Epoch 050: | Train Loss: 0.95322 | Val Loss: 0.84998 | Train Acc: 73.874| Val Acc: 79.496\n",
      "Epoch 060: | Train Loss: 0.78693 | Val Loss: 0.72157 | Train Acc: 78.018| Val Acc: 80.216\n",
      "Epoch 070: | Train Loss: 0.67356 | Val Loss: 0.66520 | Train Acc: 81.036| Val Acc: 80.576\n",
      "Epoch 080: | Train Loss: 0.58778 | Val Loss: 0.64299 | Train Acc: 83.874| Val Acc: 80.755\n",
      "Epoch 090: | Train Loss: 0.53293 | Val Loss: 0.61766 | Train Acc: 84.820| Val Acc: 81.115\n",
      "Epoch 100: | Train Loss: 0.47821 | Val Loss: 0.61636 | Train Acc: 87.162| Val Acc: 81.115\n",
      "Epoch 110: | Train Loss: 0.46584 | Val Loss: 0.60018 | Train Acc: 87.027| Val Acc: 81.475\n",
      "Epoch 120: | Train Loss: 0.42059 | Val Loss: 0.60566 | Train Acc: 88.468| Val Acc: 81.295\n",
      "Epoch 130: | Train Loss: 0.40735 | Val Loss: 0.60876 | Train Acc: 87.883| Val Acc: 81.475\n",
      "Epoch 140: | Train Loss: 0.36528 | Val Loss: 0.61028 | Train Acc: 90.180| Val Acc: 81.295\n",
      "Epoch 150: | Train Loss: 0.36568 | Val Loss: 0.60219 | Train Acc: 89.505| Val Acc: 80.755\n",
      "Epoch 160: | Train Loss: 0.35192 | Val Loss: 0.61269 | Train Acc: 89.730| Val Acc: 81.115\n",
      "Epoch 170: | Train Loss: 0.34690 | Val Loss: 0.60528 | Train Acc: 89.820| Val Acc: 81.655\n",
      "Epoch 180: | Train Loss: 0.32900 | Val Loss: 0.60817 | Train Acc: 91.216| Val Acc: 80.755\n",
      "Epoch 190: | Train Loss: 0.33101 | Val Loss: 0.61069 | Train Acc: 90.405| Val Acc: 80.935\n",
      "Epoch 200: | Train Loss: 0.31974 | Val Loss: 0.60445 | Train Acc: 90.495| Val Acc: 80.935\n"
     ]
    }
   ],
   "source": [
    "print(\"Begin training.\")\n",
    "for e in tqdm(range(1, EPOCHS+1)):\n",
    "    \n",
    "    # TRAINING\n",
    "    train_epoch_loss = 0\n",
    "    train_epoch_acc = 0\n",
    "    model.train()\n",
    "    for X_train_batch, y_train_batch in train_loader:\n",
    "        X_train_batch, y_train_batch = X_train_batch.to(device), y_train_batch.to(device)\n",
    "        optimizer.zero_grad()\n",
    "        \n",
    "        y_train_pred = model(X_train_batch)\n",
    "        \n",
    "        train_loss = criterion(y_train_pred, y_train_batch)\n",
    "        train_acc = multi_acc(y_train_pred, y_train_batch)\n",
    "        \n",
    "        train_loss.backward()\n",
    "        optimizer.step()\n",
    "        scheduler.step()\n",
    "        \n",
    "        train_epoch_loss += train_loss.item()\n",
    "        train_epoch_acc += train_acc.item()\n",
    "    \n",
    "        \n",
    "        \n",
    "    # VALIDATION    \n",
    "    with torch.no_grad():\n",
    "        \n",
    "        val_epoch_loss = 0\n",
    "        val_epoch_acc = 0\n",
    "        \n",
    "        model.eval()\n",
    "        for X_val_batch, y_val_batch in val_loader:\n",
    "            X_val_batch, y_val_batch = X_val_batch.to(device), y_val_batch.to(device)\n",
    "            \n",
    "            y_val_pred = model(X_val_batch)\n",
    "                        \n",
    "            val_loss = criterion(y_val_pred, y_val_batch)\n",
    "            val_acc = multi_acc(y_val_pred, y_val_batch)\n",
    "            \n",
    "            val_epoch_loss += val_loss.item()\n",
    "            val_epoch_acc += val_acc.item()\n",
    "    loss_stats['train'].append(train_epoch_loss/len(train_loader))\n",
    "    loss_stats['val'].append(val_epoch_loss/len(val_loader))\n",
    "    accuracy_stats['train'].append(train_epoch_acc/len(train_loader))\n",
    "    accuracy_stats['val'].append(val_epoch_acc/len(val_loader))\n",
    "                              \n",
    "    if e % 10 == 0:\n",
    "        print(f'Epoch {e+0:03}: | Train Loss: {train_epoch_loss/len(train_loader):.5f} | Val Loss: {val_epoch_loss/len(val_loader):.5f} | Train Acc: {train_epoch_acc/len(train_loader):.3f}| Val Acc: {val_epoch_acc/len(val_loader):.3f}')"
   ]
  },
  {
   "cell_type": "code",
   "execution_count": null,
   "id": "c5295a96-da26-46cd-93f2-d8894c2a3597",
   "metadata": {},
   "outputs": [],
   "source": [
    "# Create dataframes\n",
    "train_val_acc_df = pd.DataFrame.from_dict(accuracy_stats).reset_index().melt(id_vars=['index']).rename(columns={\"index\":\"epochs\"})\n",
    "train_val_loss_df = pd.DataFrame.from_dict(loss_stats).reset_index().melt(id_vars=['index']).rename(columns={\"index\":\"epochs\"})\n",
    "# Plot the dataframes\n",
    "fig, axes = plt.subplots(nrows=1, ncols=2, figsize=(20,7))\n",
    "sns.lineplot(data=train_val_acc_df, x = \"epochs\", y=\"value\", hue=\"variable\",  ax=axes[0]).set_title('Train-Val Accuracy/Epoch')\n",
    "sns.lineplot(data=train_val_loss_df, x = \"epochs\", y=\"value\", hue=\"variable\", ax=axes[1]).set_title('Train-Val Loss/Epoch')"
   ]
  },
  {
   "cell_type": "code",
   "execution_count": null,
   "id": "f532882c-dadd-4a90-9f39-9e70d5ae779a",
   "metadata": {},
   "outputs": [],
   "source": [
    "y_pred_list = []\n",
    "with torch.no_grad():\n",
    "    model.eval()\n",
    "    for X_batch, _ in test_loader:\n",
    "        X_batch = X_batch.to(device)\n",
    "        y_test_pred = model(X_batch)\n",
    "        _, y_pred_tags = torch.max(y_test_pred, dim = 1)\n",
    "        y_pred_list.append(y_pred_tags.cpu().numpy())\n",
    "y_pred_list = [a.squeeze().tolist() for a in y_pred_list]"
   ]
  },
  {
   "cell_type": "code",
   "execution_count": null,
   "id": "19dd53bf-cef3-4d35-b85d-32454afe824e",
   "metadata": {},
   "outputs": [],
   "source": [
    "\n",
    "idx2class = {v:le.classes_[v] for v in range(8)}\n"
   ]
  },
  {
   "cell_type": "code",
   "execution_count": null,
   "id": "c7823b5e-638d-428f-b0f3-f91a60fd7f40",
   "metadata": {},
   "outputs": [],
   "source": [
    "le.classes_[7]"
   ]
  },
  {
   "cell_type": "code",
   "execution_count": null,
   "id": "79998a4f-9641-4b5d-b419-d4d290393522",
   "metadata": {},
   "outputs": [],
   "source": [
    "\n",
    "confusion_matrix_df = pd.DataFrame(confusion_matrix(yo_test, y_pred_list)).rename(columns=idx2class, index=idx2class)\n",
    "# sns.heatmap(confusion_matrix_df, annot=True)\n",
    "confusion_matrix_df"
   ]
  },
  {
   "cell_type": "code",
   "execution_count": null,
   "id": "e2ad9e4e-74a8-44ca-952e-6f544b62bed0",
   "metadata": {},
   "outputs": [],
   "source": [
    "#new \n",
    "print(classification_report(yo_test, y_pred_list))"
   ]
  },
  {
   "cell_type": "code",
   "execution_count": null,
   "id": "7b68bb89-0c8f-4e0e-9fa4-3641efe08b29",
   "metadata": {},
   "outputs": [],
   "source": [
    "print(classification_report(yo_test, y_pred_list))"
   ]
  },
  {
   "cell_type": "markdown",
   "id": "a28a6cbe-aaf0-49c8-8943-7fbee4c5c27a",
   "metadata": {},
   "source": [
    "### CNN and LSTM Model\n",
    "Almost all the above model works similarly let see with CNN and LSTM"
   ]
  },
  {
   "cell_type": "markdown",
   "id": "8e57b259-2b53-42a3-aa4f-d7d8736b7a31",
   "metadata": {},
   "source": [
    "1. CNN Model"
   ]
  },
  {
   "cell_type": "code",
   "execution_count": 86,
   "id": "831e068a-3d77-401a-8fea-c78d723b6a1c",
   "metadata": {},
   "outputs": [],
   "source": [
    "import random\n",
    "import copy\n",
    "import time\n",
    "import pandas as pd\n",
    "import numpy as np\n",
    "import gc\n",
    "import re\n",
    "import torch\n",
    "\n",
    "#import spacy\n",
    "from tqdm import tqdm_notebook, tnrange\n",
    "from tqdm.auto import tqdm\n",
    "\n",
    "tqdm.pandas(desc='Progress')\n",
    "from collections import Counter\n",
    "\n",
    "from nltk import word_tokenize\n",
    "\n",
    "import torch.nn as nn\n",
    "import torch.optim as optim\n",
    "import torch.nn.functional as F\n",
    "from torch.utils.data import Dataset, DataLoader\n",
    "from torch.nn.utils.rnn import pack_padded_sequence, pad_packed_sequence\n",
    "from torch.autograd import Variable\n",
    "from sklearn.metrics import f1_score\n",
    "import os \n",
    "\n",
    "from keras_preprocessing.text import Tokenizer\n",
    "from keras_preprocessing.sequence import pad_sequences\n",
    "\n",
    "# cross validation and metrics\n",
    "from sklearn.model_selection import StratifiedKFold\n",
    "from sklearn.metrics import f1_score\n",
    "from torch.optim.optimizer import Optimizer\n",
    "\n",
    "from sklearn.preprocessing import StandardScaler\n",
    "from multiprocessing import  Pool\n",
    "from functools import partial\n",
    "import numpy as np\n",
    "from sklearn.decomposition import PCA\n",
    "import torch as t\n",
    "import torch.nn as nn\n",
    "import torch.nn.functional as F\n",
    "\n",
    "import matplotlib.pyplot as plt\n"
   ]
  },
  {
   "cell_type": "code",
   "execution_count": null,
   "id": "fff475fa-55ba-4b97-bebd-0138df680116",
   "metadata": {},
   "outputs": [],
   "source": [
    "df = pd.read_csv('news10.csv')"
   ]
  },
  {
   "cell_type": "code",
   "execution_count": null,
   "id": "71b547d6-9650-4ac9-a98e-4510328cec24",
   "metadata": {},
   "outputs": [],
   "source": [
    "df['len'] = df['news'].apply(lambda s : len(s))"
   ]
  },
  {
   "cell_type": "code",
   "execution_count": null,
   "id": "e54d8160-52a5-462c-9469-a374798cf9f0",
   "metadata": {},
   "outputs": [],
   "source": [
    "df['len'].plot.hist(bins=100)"
   ]
  },
  {
   "cell_type": "code",
   "execution_count": null,
   "id": "9ba253f8-1ea2-4b98-83ee-573e183e96be",
   "metadata": {},
   "outputs": [],
   "source": [
    "df.len.quantile(0.9)"
   ]
  },
  {
   "cell_type": "code",
   "execution_count": null,
   "id": "12066875-bc93-434e-9334-947a854d59be",
   "metadata": {},
   "outputs": [],
   "source": [
    "count_df = data[['news','catagory']].groupby('catagory').aggregate({'news':'count'}).reset_index().sort_values('news',ascending=False)\n",
    "count_df.head()"
   ]
  },
  {
   "cell_type": "code",
   "execution_count": null,
   "id": "107f53d0-5ba8-42d0-b3cd-19d91353743f",
   "metadata": {},
   "outputs": [],
   "source": [
    "import plotly.express as px"
   ]
  },
  {
   "cell_type": "code",
   "execution_count": null,
   "id": "9b90fbb2-980a-4f82-86e3-0d352c39caa3",
   "metadata": {},
   "outputs": [],
   "source": [
    "px.bar(count_df[count_df['news']>0],x='catagory',y='news')"
   ]
  },
  {
   "cell_type": "code",
   "execution_count": null,
   "id": "22b26b9b-93fc-4964-9871-3708633ba2cc",
   "metadata": {},
   "outputs": [],
   "source": [
    "import re\n",
    "\n",
    "def clean_text(x):\n",
    "    pattern = r'[^a-zA-z0-9\\s]'\n",
    "    text = re.sub(pattern, '', x)\n",
    "    return x\n",
    "\n",
    "def clean_numbers(x):\n",
    "    if bool(re.search(r'\\d', x)):\n",
    "        x = re.sub('[0-9]{5,}', '#####', x)\n",
    "        x = re.sub('[0-9]{4}', '####', x)\n",
    "        x = re.sub('[0-9]{3}', '###', x)\n",
    "        x = re.sub('[0-9]{2}', '##', x)\n",
    "    return x"
   ]
  },
  {
   "cell_type": "code",
   "execution_count": null,
   "id": "d555dcba-f5b8-4297-8ca2-a1dd2d139710",
   "metadata": {},
   "outputs": [],
   "source": [
    "# lower the text\n",
    "df[\"news\"] = df[\"news\"].apply(lambda x: x.lower())\n",
    "\n",
    "# Clean the text\n",
    "df[\"news\"] = df[\"news\"].apply(lambda x: clean_text(x))\n",
    "\n",
    "# Clean numbers\n",
    "df[\"news\"] = df[\"news\"].apply(lambda x: clean_numbers(x))\n"
   ]
  },
  {
   "cell_type": "code",
   "execution_count": null,
   "id": "d2d7601f-5043-483d-b0eb-513e7e3506bc",
   "metadata": {},
   "outputs": [],
   "source": [
    "df['catagory'].unique()"
   ]
  },
  {
   "cell_type": "code",
   "execution_count": null,
   "id": "2391d40f-7d73-4422-ab76-cf4271de6b0f",
   "metadata": {},
   "outputs": [],
   "source": [
    "ml = data.copy(deep=True)"
   ]
  },
  {
   "cell_type": "code",
   "execution_count": null,
   "id": "2a8b867d-45b7-4aef-a644-b7e4a705cf3d",
   "metadata": {},
   "outputs": [],
   "source": [
    "def group_by_cat(cat):\n",
    "    if cat == 'agriculture' or cat == 'health' or cat == 'weather':\n",
    "        return 'health'\n",
    "    if cat == 'economics' or cat == 'politics':\n",
    "        return 'economics'\n",
    "    if cat == 'education' or cat == 'technology':\n",
    "        return 'economics'\n",
    "    else:\n",
    "        return 'sports'"
   ]
  },
  {
   "cell_type": "code",
   "execution_count": null,
   "id": "83842db0-24e6-4e12-8ead-2dd1a33415f0",
   "metadata": {},
   "outputs": [],
   "source": [
    "ml['catagory'] = ml['catagory'].apply(group_by_cat)"
   ]
  },
  {
   "cell_type": "code",
   "execution_count": null,
   "id": "b9ce31a8-25df-4c61-b4f2-a716694fe4d5",
   "metadata": {},
   "outputs": [],
   "source": [
    "ml['catagory'].value_counts()"
   ]
  },
  {
   "cell_type": "code",
   "execution_count": null,
   "id": "83a8a3a7-7357-48a4-b182-a9fced619524",
   "metadata": {},
   "outputs": [],
   "source": [
    "ml['catagory'].value_counts()"
   ]
  },
  {
   "cell_type": "code",
   "execution_count": null,
   "id": "4ee8b13a-718f-49f2-b862-5112cb574dc3",
   "metadata": {},
   "outputs": [],
   "source": [
    "ml['news'].drop_duplicates(inplace=True)"
   ]
  },
  {
   "cell_type": "code",
   "execution_count": null,
   "id": "418e6d6b-5f38-4afe-9f27-c9ba876b87e8",
   "metadata": {},
   "outputs": [],
   "source": [
    "data.drop_duplicates(inplace=True)"
   ]
  },
  {
   "cell_type": "code",
   "execution_count": null,
   "id": "f1e26713-61cd-4192-9efd-103fb80c2740",
   "metadata": {},
   "outputs": [],
   "source": [
    "data.describe()"
   ]
  },
  {
   "cell_type": "markdown",
   "id": "cfbacc87-e18c-4103-901b-9d718dfd5215",
   "metadata": {},
   "source": [
    "## Preprocess "
   ]
  },
  {
   "cell_type": "code",
   "execution_count": 23,
   "id": "33251630-0de5-4bfb-9bb9-941127dc8fa8",
   "metadata": {},
   "outputs": [],
   "source": [
    "stop_word=['akka','akkasumas','akkum','akkuma','ammo','ammoo','ani','booda','booddee','dura','eega','eegana','irratti', 'itti', 'ni','1','2','3',\n",
    "            'eegasii','ennaa','erga','fi','garuu','hanga','henna','hoggaa','hogguu','hoo','illee','immoo','ini','innaa','isaa',\n",
    "            'isaan','iseen','itumallee','ituu','ituullee','jechaan','jechuun','kan','kanaaf','kanaafi','kanaafuu','koo','kun','hin', 'f'\n",
    "            'malee','moo','odoo','ofii','oggaa','oo','osoo','otoo','otumallee','otuu','otuullee','saniif','silaa','simmoo','sun','tahuullee','tanaafi','tanaafuu',\"ta'ullee\",'tawullee',\n",
    "            'waggaa','woo','yammuu','yemmuu','yeroo','yommii','yommuu','yoo','yookaan','yookiiin','yookinimoo','yoom','fi','ennaa','oo', 'xaa', 'fe','ta', 'ullee','obbo','to'\n",
    "             ,'tahee', 'kana', 'gara', 'ture', 'irraa', 'ffaa', 'keessa', 'keessan', 'waliin', 'isaanii','jedhan',\n",
    "            'ee', 'ffaan','keessaa', 'waliin', 'ta\\'uu', 'tahuun', 'qabu', 'kuma', 'keessatti', 'ol', 'keenya', 'tahu', 'tahuu', 'jira','jedhame','kanaan',\n",
    "           'waan', 'garee', 'wal', 'ibsaniiru', 'jedhaniiru','beeksiseera', 'nu', 'qabna', 'dha','qabdu','waloo','dhiyaate', 'fbc','jiru',\n",
    "             'turan', 'yaadatama', 'taahaa', 'haaluma','walfakkaatuun', 'yookiin','jedha','ishe', 'jedhameera', 'haala', 'tahe','qaban', 'dabalataan',\n",
    "             'gadi','tahan','tokko','himameera', 'kanaa', 'kanneen', 'kunneen', 'hedduu','tahus','taasisaniin',  'tasisan','garaagaraa','jirti'\n",
    "            ,'nuuf','qabne', 'jedhaniiru', 'qabne','turaniiru','booda','an','obn','qabas','irratt','ba','beekkameera','haala'\n",
    "           , 'ammajjii' ,'amajjii', 'guraandhala','gurraandhala','al','himaniiru', 'bitootessa', 'ebla', 'caamsaa', 'waxabajjii', 'adoolessa', 'hagayya', 'fulbaana', 'onkololeessa', 'sadaasa','muddee'\n",
    "            ,'irra', 'malee', 'aadde' 'obbo','guyyaa', 'harha','as', 'danda', 'qaba', 'hn', 'isaaniin', 'himame', 'jiran' , 'jedhameeti', 'eegama','jedheera',\n",
    "            'bara', 'hojii','sahaatii', 'walii','miti','nuti','biin','ibsameera','tti','walitti','jedhu','inni','aa','adda','haa','isa','of','uk'\n",
    "            ,'uu', 'ga', 'bu','kanarratti','atan','ataniiru', 'har', 'uun','eera','duu']"
   ]
  },
  {
   "cell_type": "code",
   "execution_count": 25,
   "id": "56adc92f-2138-424b-8191-56fb35c79872",
   "metadata": {},
   "outputs": [],
   "source": [
    "import gensim\n",
    "import gensim.corpora as corpora\n",
    "from gensim.utils import simple_preprocess\n",
    "from gensim.models import CoherenceModel "
   ]
  },
  {
   "cell_type": "code",
   "execution_count": 26,
   "id": "e3dadd6c-d357-4755-8549-7b6395ca6ec8",
   "metadata": {},
   "outputs": [],
   "source": [
    "def sentence_stemming(sentence):\n",
    "    new_word = []\n",
    "\n",
    "    for word in sentence.split(' '):\n",
    "        new_w = clean_text(word)\n",
    "#         new_w = st.stem(new_w)\n",
    "        new_word.append(new_w)\n",
    "        text_out = ' '.join(new_word)\n",
    "    return (text_out)"
   ]
  },
  {
   "cell_type": "code",
   "execution_count": 27,
   "id": "a477d6e0-d8ae-4832-adfd-0b366a9157a4",
   "metadata": {},
   "outputs": [],
   "source": [
    "def preprocess_data(text):\n",
    "    new_str = text.replace(\"'\", 'h')\n",
    "    # replace all variants of hudhaa (')\n",
    "    new_str = new_str.replace(\"'\", 'h')\n",
    "    new_str = new_str.replace(u'’','h')\n",
    "    new_str = new_str.replace(\"‘\", \"h\");\n",
    "    new_str = new_str.replace(\"`\", \"h\");\n",
    "    new_str = new_str.replace(\"’\", \"h\");\n",
    "    new_str = new_str.replace(\"′\", \"h\");\n",
    "    new_str = new_str.replace(\"︐\", \"h\");\n",
    "    new_str = new_str.replace('(', '')\n",
    "    new_str = new_str.replace(')', '')\n",
    "    return listToString(new_str)"
   ]
  },
  {
   "cell_type": "code",
   "execution_count": 28,
   "id": "e09b91ea-8a6b-4cca-bafe-bc877093e413",
   "metadata": {},
   "outputs": [],
   "source": [
    "def listToString(s): \n",
    "    \n",
    "    str1 = \"\" \n",
    "    \n",
    "    for ele in s: \n",
    "        str1 += ele  \n",
    "    \n",
    "    return str1 "
   ]
  },
  {
   "cell_type": "code",
   "execution_count": 29,
   "id": "d8fb83e0-cf7b-4a14-8cff-d39545080b13",
   "metadata": {},
   "outputs": [],
   "source": [
    "def get_all(news):\n",
    "    return [sentence_stemming(x) for x in news]"
   ]
  },
  {
   "cell_type": "code",
   "execution_count": 30,
   "id": "6789460c-7504-4c01-81f4-10f6d6c61607",
   "metadata": {},
   "outputs": [],
   "source": [
    "def gen_words(texts):\n",
    "    final = []\n",
    "    for text in texts:\n",
    "        new = simple_preprocess(text, deacc=True)\n",
    "        final.append(new)\n",
    "    return (final)"
   ]
  },
  {
   "cell_type": "code",
   "execution_count": 31,
   "id": "3c9f7682-7d6b-4a30-a3c2-738e17b94c07",
   "metadata": {},
   "outputs": [],
   "source": [
    "check = datap['news']"
   ]
  },
  {
   "cell_type": "code",
   "execution_count": 32,
   "id": "4dae18e9-0431-4fc2-aed5-e89657ba94a4",
   "metadata": {},
   "outputs": [
    {
     "data": {
      "text/plain": [
       "'ministeerichi qabeenya uummaamaa irratti marii gaggeessaa jira finfinnee muddee   – ministee'"
      ]
     },
     "execution_count": 32,
     "metadata": {},
     "output_type": "execute_result"
    }
   ],
   "source": [
    "dd = get_all(check)\n",
    "dd[0][0:92]"
   ]
  },
  {
   "cell_type": "code",
   "execution_count": 33,
   "id": "bb9e0c62-fb48-4447-bbbf-7aeee054d580",
   "metadata": {},
   "outputs": [
    {
     "name": "stdout",
     "output_type": "stream",
     "text": [
      "['ministeerichi', 'qabeenya', 'uummaamaa', 'irratti', 'marii', 'gaggeessaa', 'jira', 'finfinnee', 'muddee', 'ministeerri', 'qonnaa', 'fi', 'qabeenya', 'uummamaa', 'hojii', 'qabeenya', 'uummamaarratti', 'magaalaa', 'adaamaatti', 'marii']\n"
     ]
    }
   ],
   "source": [
    "data_words_with_stop = gen_words(dd)\n",
    "\n",
    "print (data_words_with_stop[0][0:20])"
   ]
  },
  {
   "cell_type": "code",
   "execution_count": 34,
   "id": "d6a3c36f-edb2-4e03-aba1-aa2ff2c51327",
   "metadata": {},
   "outputs": [
    {
     "name": "stdout",
     "output_type": "stream",
     "text": [
      "['ministeerri', 'qonnaa', 'fdri', 'oomishti', 'qonnaan', 'bulaa', 'qisaasamne', 'yaadachiise', 'ministeerichi', 'oomishti', 'sassaabbame', 'sirnaan', 'kaaamus', 'dhaamera', 'ministir', 'deettaan', 'ministeerichaa', 'saanii', 'raddiin', 'faanaa', 'broodkaastiing', 'koorporeetitti', 'himanitti', 'lafa', 'oomisha', 'qonna', 'gannaa', 'sanyiidhan', 'uwwifame', 'sassaabbameera', 'sassaabbiitti', 'eeggannaan', 'taasifamu', 'kuusaa', 'keessattis', 'qisaasamne', 'eeggannaa', 'gochuun', 'barbaachisaa', 'tauu', 'eeraniiru', 'qophii', 'ooyruurratti', 'fayyadamtummaan', 'sadarkaa', 'olaanaarra', 'qaqqabaa', 'dhufuu', 'oomishti', 'naannoo', 'baddaatti', 'qabamin', 'sassaabbamuuf', 'roobni', 'sodaachisaan', 'midhaan', 'balleesu', 'jiraachuu', 'baatus', 'hirmaannaa', 'tumsi', 'hawaasaa', 'fufu', 'gaafataniiru', 'midhaan', 'ooyrurraa', 'sassaabuun', 'cinaatti', 'hojiin', 'misooma', 'jallisii', 'fufuu', 'ibsan', 'saaniin', 'lafa', 'misooma', 'jallisii', 'qamadiidhan', 'uwwisuuf', 'karoorfame', 'heektaara', 'amma', 'ammaatti', 'kumni', 'sanyiidhan', 'uwwifameera', 'qonnaan', 'bulaan', 'jallisiidhan', 'misoomsa', 'lafa', 'heektaara', 'miiliyoona', 'kumni', 'dhibbi', 'misoomuu', 'eegaleera']\n",
      "ministeerri qonnaa fdri oomishti qonnaan bulaa akka hin qisaasamne yaadachiise  ministeerichi oomishti sassaabbame sirnaan akka kaaamus dhaamera  ministir deettaan ministeerichaa obbo saanii raddiin faanaa broodkaastiing koorporeetitti akka himanitti lafa bara oomisha qonna gannaa  sanyiidhan uwwifame keessaa  sassaabbameera  yeroo sassaabbiitti akkuma of eeggannaan taasifamu kuusaa keessattis akka hin qisaasamne of eeggannaa gochuun barbaachisaa tauu eeraniiru  qophii ooyruurratti fayyadamtummaan meekaanaayzeeshinii sadarkaa olaanaarra qaqqabaa dhufuu ibsaniiru  oomishti naannoo baddaatti walitti hin qabamin akka sassaabbamuuf roobni sodaachisaan midhaan balleesu jiraachuu baatus hirmaannaa fi tumsi hawaasaa akka itti fufu gaafataniiru  midhaan ooyrurraa sassaabuun cinaatti hojiin misooma jallisii itti fufuu ibsan obbo saaniin  lafa misooma jallisii qamadiidhan uwwisuuf karoorfame heektaara kuma  keessaa amma ammaatti kumni  sanyiidhan uwwifameera  qonnaan bulaan jallisiidhan ni misoomsa lafa jedhame heektaara miiliyoona  keessaa kumni dhibbi  misoomuu eegaleera\n"
     ]
    }
   ],
   "source": [
    "def remove_stopwords(texts):\n",
    "    return [[word for word in simple_preprocess(str(doc)) if word not in stop_word] for doc in texts]\n",
    "data_words = remove_stopwords(data_words_with_stop)\n",
    "print (data_words[1])\n",
    "print (datap['news'][1])"
   ]
  },
  {
   "cell_type": "code",
   "execution_count": 35,
   "id": "f4534872-83a6-4f84-8da8-8d50cab2c480",
   "metadata": {},
   "outputs": [],
   "source": [
    "def list_to_sent(lst):\n",
    "    return ' '.join(l for l in lst)"
   ]
  },
  {
   "cell_type": "code",
   "execution_count": 36,
   "id": "ffa2565d-06cf-465b-9311-35e5278cb923",
   "metadata": {},
   "outputs": [
    {
     "data": {
      "text/plain": [
       "'ministeerri qonnaa fdri oomishti qonnaan bulaa qisaasamne yaadachiise ministeerichi oomishti sassaabbame sirnaan kaaamus dhaamera ministir deettaan ministeerichaa saanii raddiin faanaa broodkaastiing koorporeetitti himanitti lafa oomisha qonna gannaa sanyiidhan uwwifame sassaabbameera sassaabbiitti eeggannaan taasifamu kuusaa keessattis qisaasamne eeggannaa gochuun barbaachisaa tauu eeraniiru qophii ooyruurratti fayyadamtummaan sadarkaa olaanaarra qaqqabaa dhufuu oomishti naannoo baddaatti qabamin sassaabbamuuf roobni sodaachisaan midhaan balleesu jiraachuu baatus hirmaannaa tumsi hawaasaa fufu gaafataniiru midhaan ooyrurraa sassaabuun cinaatti hojiin misooma jallisii fufuu ibsan saaniin lafa misooma jallisii qamadiidhan uwwisuuf karoorfame heektaara amma ammaatti kumni sanyiidhan uwwifameera qonnaan bulaan jallisiidhan misoomsa lafa heektaara miiliyoona kumni dhibbi misoomuu eegaleera'"
      ]
     },
     "execution_count": 36,
     "metadata": {},
     "output_type": "execute_result"
    }
   ],
   "source": [
    "ss = list_to_sent(data_words[1])\n",
    "ss"
   ]
  },
  {
   "cell_type": "code",
   "execution_count": 37,
   "id": "94de9928-5a27-43fd-9cff-b3233c7cc737",
   "metadata": {},
   "outputs": [],
   "source": [
    "dw = []\n",
    "for d in data_words:\n",
    "    dw.append(list_to_sent(d))"
   ]
  },
  {
   "cell_type": "code",
   "execution_count": 29,
   "id": "dc40c705-f049-4b77-a792-59bb207cd52d",
   "metadata": {},
   "outputs": [],
   "source": [
    "datap['news'] = dw"
   ]
  },
  {
   "cell_type": "code",
   "execution_count": 38,
   "id": "27f7b8d9-64de-4715-af0a-7963c0b8d4b3",
   "metadata": {},
   "outputs": [
    {
     "data": {
      "text/plain": [
       "'ministeerri qonnaa fdri oomishti qonnaan bulaa akka hin qisaasamne yaadachiise  ministeerichi oomishti sassaabbame sirnaan akka kaaamus dhaamera  ministir deettaan ministeerichaa obbo saanii raddiin faanaa broodkaastiing koorporeetitti akka himanitti lafa bara oomisha qonna gannaa  sanyiidhan uwwifame keessaa  sassaabbameera  yeroo sassaabbiitti akkuma of eeggannaan taasifamu kuusaa keessattis akka hin qisaasamne of eeggannaa gochuun barbaachisaa tauu eeraniiru  qophii ooyruurratti fayyadamtummaan meekaanaayzeeshinii sadarkaa olaanaarra qaqqabaa dhufuu ibsaniiru  oomishti naannoo baddaatti walitti hin qabamin akka sassaabbamuuf roobni sodaachisaan midhaan balleesu jiraachuu baatus hirmaannaa fi tumsi hawaasaa akka itti fufu gaafataniiru  midhaan ooyrurraa sassaabuun cinaatti hojiin misooma jallisii itti fufuu ibsan obbo saaniin  lafa misooma jallisii qamadiidhan uwwisuuf karoorfame heektaara kuma  keessaa amma ammaatti kumni  sanyiidhan uwwifameera  qonnaan bulaan jallisiidhan ni misoomsa lafa jedhame heektaara miiliyoona  keessaa kumni dhibbi  misoomuu eegaleera'"
      ]
     },
     "execution_count": 38,
     "metadata": {},
     "output_type": "execute_result"
    }
   ],
   "source": [
    "datap['news'][1]"
   ]
  },
  {
   "cell_type": "code",
   "execution_count": 39,
   "id": "b7ed456b-d4fe-4c09-a465-7d79aa749007",
   "metadata": {},
   "outputs": [
    {
     "data": {
      "text/plain": [
       "3967"
      ]
     },
     "execution_count": 39,
     "metadata": {},
     "output_type": "execute_result"
    }
   ],
   "source": [
    "len(data_words)"
   ]
  },
  {
   "cell_type": "code",
   "execution_count": null,
   "id": "48e3129f-6a5e-4f5a-930f-23c70c00d8e8",
   "metadata": {},
   "outputs": [],
   "source": []
  },
  {
   "cell_type": "code",
   "execution_count": null,
   "id": "213de476-875f-4c22-a648-bac1d8ff0f69",
   "metadata": {},
   "outputs": [],
   "source": []
  },
  {
   "cell_type": "code",
   "execution_count": null,
   "id": "4384c1a1-b8d1-45e3-a89e-096836101ea1",
   "metadata": {},
   "outputs": [],
   "source": []
  },
  {
   "cell_type": "code",
   "execution_count": 41,
   "id": "d8a536c9-5ad5-453c-8361-ce0fe5986a81",
   "metadata": {},
   "outputs": [
    {
     "data": {
      "text/html": [
       "<div>\n",
       "<style scoped>\n",
       "    .dataframe tbody tr th:only-of-type {\n",
       "        vertical-align: middle;\n",
       "    }\n",
       "\n",
       "    .dataframe tbody tr th {\n",
       "        vertical-align: top;\n",
       "    }\n",
       "\n",
       "    .dataframe thead th {\n",
       "        text-align: right;\n",
       "    }\n",
       "</style>\n",
       "<table border=\"1\" class=\"dataframe\">\n",
       "  <thead>\n",
       "    <tr style=\"text-align: right;\">\n",
       "      <th></th>\n",
       "      <th>news</th>\n",
       "      <th>catagory</th>\n",
       "    </tr>\n",
       "  </thead>\n",
       "  <tbody>\n",
       "    <tr>\n",
       "      <th>count</th>\n",
       "      <td>3886</td>\n",
       "      <td>3886</td>\n",
       "    </tr>\n",
       "    <tr>\n",
       "      <th>unique</th>\n",
       "      <td>3883</td>\n",
       "      <td>8</td>\n",
       "    </tr>\n",
       "    <tr>\n",
       "      <th>top</th>\n",
       "      <td>dhaabbata madaaallii ga’umsa ityoophiyaatti gi...</td>\n",
       "      <td>politics</td>\n",
       "    </tr>\n",
       "    <tr>\n",
       "      <th>freq</th>\n",
       "      <td>2</td>\n",
       "      <td>652</td>\n",
       "    </tr>\n",
       "  </tbody>\n",
       "</table>\n",
       "</div>"
      ],
      "text/plain": [
       "                                                     news  catagory\n",
       "count                                                3886      3886\n",
       "unique                                               3883         8\n",
       "top     dhaabbata madaaallii ga’umsa ityoophiyaatti gi...  politics\n",
       "freq                                                    2       652"
      ]
     },
     "execution_count": 41,
     "metadata": {},
     "output_type": "execute_result"
    }
   ],
   "source": [
    "datap.describe()"
   ]
  },
  {
   "cell_type": "code",
   "execution_count": 40,
   "id": "f292e143-4b26-42eb-8dbb-39de9ed3de52",
   "metadata": {},
   "outputs": [
    {
     "name": "stdout",
     "output_type": "stream",
     "text": [
      "politics       652\n",
      "finance        651\n",
      "health         478\n",
      "agriculture    430\n",
      "education      425\n",
      "sports         424\n",
      "technology     420\n",
      "weather        406\n",
      "Name: catagory, dtype: int64\n",
      "(3886, 2)\n"
     ]
    }
   ],
   "source": [
    "datap.drop_duplicates(inplace=True)\n",
    "datap = datap[datap['catagory'] !='economics']\n",
    "print(datap['catagory'].value_counts())\n",
    "print(datap.shape)"
   ]
  },
  {
   "cell_type": "code",
   "execution_count": null,
   "id": "90371696-fe95-448f-8bfb-a1d26023c99e",
   "metadata": {},
   "outputs": [],
   "source": [
    "def to_word(sent):\n",
    "    words = [s for s in sent.split(' ')]\n",
    "    return len(words)    "
   ]
  },
  {
   "cell_type": "code",
   "execution_count": null,
   "id": "ac74a02b-635e-4ecb-8db1-18fb145e1f37",
   "metadata": {},
   "outputs": [],
   "source": [
    "data['word_len'] = data['news'].apply(to_word)\n",
    "df['word_len'] = df['news'].apply(to_word)"
   ]
  },
  {
   "cell_type": "code",
   "execution_count": null,
   "id": "772fb558-8bce-4ab9-a463-b456751f5203",
   "metadata": {},
   "outputs": [],
   "source": [
    "sm = data[data['word_len']  == 1384]\n",
    "smin = df[df['word_len'] == 12]\n",
    "smin['news'][1578]"
   ]
  },
  {
   "cell_type": "code",
   "execution_count": 87,
   "id": "d9468bb2-e4b3-4791-98e7-de4354d1c2bd",
   "metadata": {},
   "outputs": [],
   "source": [
    "from sklearn.model_selection import train_test_split\n",
    "tain_X, test_X, train_y, test_y = train_test_split(data['news'], data['catagory'],\n",
    "                                                    stratify=data['catagory'], \n",
    "                                                    test_size=0.2,random_state = 43)"
   ]
  },
  {
   "cell_type": "code",
   "execution_count": 88,
   "id": "ca6c1ae6-c37f-4ef6-b80b-17ffd2608f35",
   "metadata": {},
   "outputs": [
    {
     "data": {
      "text/plain": [
       "3966"
      ]
     },
     "execution_count": 88,
     "metadata": {},
     "output_type": "execute_result"
    }
   ],
   "source": [
    "embed_size = 300 # how big is each word vector\n",
    "max_features = 30000 # how many unique words to use (i.e num rows in embedding vector)\n",
    "maxlen = 512 # max number of words in a question to use\n",
    "batch_size = 8 # how many samples to process at once\n",
    "n_epochs = 10 # how many times to iterate over all samples\n",
    "n_splits = 5 # Number of K-fold Splits\n",
    "SEED = 43\n",
    "LEARNING_RATE = 4e-5\n",
    "USE_SWA = False\n",
    "SWA_RATIO = 0.9\n",
    "WARMUP_RATIO = 0.25\n",
    "WEIGHT_DECAY = 0.001\n",
    "SWA_FREQ = 1\n",
    "num_train_steps =  int(len(tain_X) / batch_size * n_epochs)\n",
    "num_train_steps"
   ]
  },
  {
   "cell_type": "code",
   "execution_count": 89,
   "id": "8585cea3-63c3-48ff-9d32-f26a8a69c09c",
   "metadata": {},
   "outputs": [],
   "source": [
    "## Tokenize the sentences\n",
    "tokenizer = Tokenizer(num_words=max_features)\n",
    "tokenizer.fit_on_texts(list(tain_X))\n",
    "train_X = tokenizer.texts_to_sequences(tain_X)\n",
    "test_X = tokenizer.texts_to_sequences(test_X)"
   ]
  },
  {
   "cell_type": "code",
   "execution_count": 90,
   "id": "8857b2ae-b6a2-42a7-9bca-7917230eb048",
   "metadata": {},
   "outputs": [],
   "source": [
    "## Pad the sentences \n",
    "train_X = pad_sequences(train_X, maxlen=maxlen)\n",
    "test_X = pad_sequences(test_X, maxlen=maxlen)"
   ]
  },
  {
   "cell_type": "code",
   "execution_count": 91,
   "id": "0950fa0a-53d7-4900-b50b-d249a6946f2c",
   "metadata": {},
   "outputs": [
    {
     "data": {
      "text/plain": [
       "(3173, 512)"
      ]
     },
     "execution_count": 91,
     "metadata": {},
     "output_type": "execute_result"
    }
   ],
   "source": [
    "train_X.shape"
   ]
  },
  {
   "cell_type": "code",
   "execution_count": 92,
   "id": "728ab293-be3e-41ff-b386-5649fdd998e4",
   "metadata": {},
   "outputs": [],
   "source": [
    "from sklearn.preprocessing import LabelEncoder\n",
    "le = LabelEncoder()\n",
    "train_y = le.fit_transform(train_y.values)\n",
    "test_y = le.transform(test_y.values)"
   ]
  },
  {
   "cell_type": "code",
   "execution_count": 93,
   "id": "8ff4af64-9e36-4055-a6fb-c88642813a40",
   "metadata": {},
   "outputs": [
    {
     "data": {
      "text/plain": [
       "'cpu'"
      ]
     },
     "execution_count": 93,
     "metadata": {},
     "output_type": "execute_result"
    }
   ],
   "source": [
    "device = 'cuda' if torch.cuda.is_available() else 'cpu'\n",
    "device"
   ]
  },
  {
   "cell_type": "code",
   "execution_count": 94,
   "id": "6f44f7e4-b3c5-4653-b9c8-72fa356eb25b",
   "metadata": {},
   "outputs": [
    {
     "name": "stdout",
     "output_type": "stream",
     "text": [
      "loading word embeddings...\n"
     ]
    },
    {
     "data": {
      "application/vnd.jupyter.widget-view+json": {
       "model_id": "8aa15695e8aa4d6db1919a39d629fa32",
       "version_major": 2,
       "version_minor": 0
      },
      "text/plain": [
       "0it [00:00, ?it/s]"
      ]
     },
     "metadata": {},
     "output_type": "display_data"
    },
    {
     "name": "stdout",
     "output_type": "stream",
     "text": [
      "found 42702 word vectors\n"
     ]
    }
   ],
   "source": [
    "#load embeddings\n",
    "import codecs\n",
    "print('loading word embeddings...')\n",
    "embeddings_index = {}\n",
    "f = codecs.open('text_vec2.vec', encoding='utf-8')\n",
    "for line in tqdm(f):\n",
    "    values = line.rstrip().rsplit(' ')\n",
    "    word = values[0]\n",
    "    coefs = np.asarray(values[1:], dtype='float32')\n",
    "    embeddings_index[word] = coefs\n",
    "f.close()\n",
    "print('found %s word vectors' % len(embeddings_index))"
   ]
  },
  {
   "cell_type": "code",
   "execution_count": 95,
   "id": "b01e68aa-9f3f-46ae-a436-5e1e570561ba",
   "metadata": {},
   "outputs": [
    {
     "name": "stdout",
     "output_type": "stream",
     "text": [
      "preparing embedding matrix...\n",
      "number of null word embeddings: 16172\n"
     ]
    }
   ],
   "source": [
    "#embedding matrix\n",
    "print('preparing embedding matrix...')\n",
    "word_index = tokenizer.word_index\n",
    "words_not_found = []\n",
    "nb_words = min(max_features, len(word_index))\n",
    "embedding_matrix = np.zeros((nb_words, embed_size))\n",
    "for word, i in word_index.items():\n",
    "    if i >= nb_words:\n",
    "        continue\n",
    "    embedding_vector = embeddings_index.get(word)\n",
    "    if (embedding_vector is not None) and len(embedding_vector) > 0:\n",
    "        # words not found in embedding index will be all-zeros.\n",
    "        embedding_matrix[i] = embedding_vector\n",
    "    else:\n",
    "        words_not_found.append(word)\n",
    "print('number of null word embeddings: %d' % np.sum(np.sum(embedding_matrix, axis=1) == 0))"
   ]
  },
  {
   "cell_type": "code",
   "execution_count": 96,
   "id": "f06e620b-e163-4889-9287-b3a88c8e5ba6",
   "metadata": {},
   "outputs": [
    {
     "data": {
      "text/plain": [
       "3967"
      ]
     },
     "execution_count": 96,
     "metadata": {},
     "output_type": "execute_result"
    }
   ],
   "source": [
    "data.shape[0]"
   ]
  },
  {
   "cell_type": "code",
   "execution_count": 97,
   "id": "dfafedb2-6a2f-469e-a772-407f190d21a4",
   "metadata": {},
   "outputs": [
    {
     "data": {
      "text/plain": [
       "(30000, 300)"
      ]
     },
     "execution_count": 97,
     "metadata": {},
     "output_type": "execute_result"
    }
   ],
   "source": [
    "np.shape(embedding_matrix)"
   ]
  },
  {
   "cell_type": "code",
   "execution_count": 98,
   "id": "e6933ef7-b3e9-4bdc-91b6-f8c9784461e6",
   "metadata": {},
   "outputs": [
    {
     "name": "stdout",
     "output_type": "stream",
     "text": [
      "CNN_Text(\n",
      "  (embedding): Embedding(30000, 300)\n",
      "  (convs1): ModuleList(\n",
      "    (0): Conv2d(1, 64, kernel_size=(1, 300), stride=(1, 1))\n",
      "    (1): Conv2d(1, 64, kernel_size=(2, 300), stride=(1, 1))\n",
      "    (2): Conv2d(1, 64, kernel_size=(3, 300), stride=(1, 1))\n",
      "  )\n",
      "  (dropout): Dropout(p=0.5, inplace=False)\n",
      "  (fc1): Linear(in_features=192, out_features=8, bias=True)\n",
      ")\n"
     ]
    }
   ],
   "source": [
    "class CNN_Text(nn.Module):\n",
    "    \n",
    "    def __init__(self):\n",
    "        super(CNN_Text, self).__init__()\n",
    "        filter_sizes = [1,2,3]\n",
    "\n",
    "        num_filters = 64\n",
    "        n_classes = len(le.classes_)\n",
    "        self.embedding = nn.Embedding(max_features, embed_size)\n",
    "        self.embedding.weight = nn.Parameter(torch.tensor(embedding_matrix, dtype=torch.float32))\n",
    "        self.embedding.weight.requires_grad = False\n",
    "        self.convs1 = nn.ModuleList([nn.Conv2d(1, num_filters, (K, embed_size)) for K in filter_sizes])\n",
    "        self.dropout = nn.Dropout(0.5)\n",
    "        self.fc1 = nn.Linear(len(filter_sizes)*num_filters, n_classes)\n",
    "\n",
    "\n",
    "    def forward(self, x):\n",
    "        x = self.embedding(x) \n",
    "        x = x.unsqueeze(1)  \n",
    "        x = [F.relu(conv(x)).squeeze(3) for conv in self.convs1] \n",
    "        x = [F.max_pool1d(i, i.size(2)).squeeze(2) for i in x]  \n",
    "        x = torch.cat(x, 1)\n",
    "        x = self.dropout(x) \n",
    "        x = self.dropout(x)\n",
    "        logit = self.fc1(x) \n",
    "        return logit\n",
    "model = CNN_Text()\n",
    "print(model)"
   ]
  },
  {
   "cell_type": "code",
   "execution_count": null,
   "id": "2ea32414-9bd2-449f-b3f2-d0cb2b10f46c",
   "metadata": {},
   "outputs": [],
   "source": []
  },
  {
   "cell_type": "code",
   "execution_count": 54,
   "id": "88055974-3003-4217-8d78-fab09a294b09",
   "metadata": {},
   "outputs": [],
   "source": [
    "# # criterion = nn.CrossEntropyLoss()\n",
    "# param_optimizer = list(model.named_parameters())\n",
    "# no_decay = [\"bias\", \"LayerNorm.bias\", \"LayerNorm.weight\"]\n",
    "\n",
    "# optimizer_parameters = [\n",
    "#     {\n",
    "#         \"params\": [\n",
    "#             p for n, p in param_optimizer if not any(nd in n for nd in no_decay)\n",
    "#         ],\n",
    "#         \"weight_decay\": WEIGHT_DECAY,\n",
    "#     },\n",
    "#     {\n",
    "#         \"params\": [\n",
    "#             p for n, p in param_optimizer if any(nd in n for nd in no_decay)\n",
    "#         ],\n",
    "#         \"weight_decay\": 0.0,\n",
    "#     },\n",
    "# ]\n",
    "# # base_opt = transformers.AdamW(optimizer_parameters, lr=LEARNING_RATE)\n",
    "# base_opt = torch.optim.Adam(filter(lambda p: p.requires_grad, model.parameters()), lr=LEARNING_RATE)\n",
    "\n",
    "# optimizer = torchcontrib.optim.SWA(\n",
    "#     base_opt,\n",
    "#     swa_start=int(num_train_steps * SWA_RATIO),\n",
    "#     swa_freq=SWA_FREQ,\n",
    "#     swa_lr=None,\n",
    "# )\n",
    "\n",
    "# scheduler = transformers.get_linear_schedule_with_warmup(\n",
    "#     optimizer=optimizer,\n",
    "#     num_warmup_steps=int(num_train_steps * WARMUP_RATIO),\n",
    "#     num_training_steps=num_train_steps,\n",
    "# )\n",
    "# if USE_SWA:\n",
    "#     optimizer.swap_swa_sgd()\n",
    "\n",
    "# wandb.init(project=\"ao_news_classification\", entity=\"gamme\")\n",
    "# wandb.config = {\n",
    "#   \"learning_rate\": 0.001,\n",
    "#   \"epochs\": n_epochs,\n",
    "#   \"batch_size\": batch_size\n",
    "# }"
   ]
  },
  {
   "cell_type": "code",
   "execution_count": 99,
   "id": "9eb7f170-f6c2-4ac5-80ad-c1404b3d1730",
   "metadata": {},
   "outputs": [
    {
     "data": {
      "application/vnd.jupyter.widget-view+json": {
       "model_id": "596abfbbfb304f26b736ecaff3db3889",
       "version_major": 2,
       "version_minor": 0
      },
      "text/plain": [
       "  0%|          | 0/10 [00:00<?, ?it/s]"
      ]
     },
     "metadata": {},
     "output_type": "display_data"
    },
    {
     "name": "stdout",
     "output_type": "stream",
     "text": [
      "Epoch 1/10 \t loss=12.4767 \t val_loss=6.8688  \t val_acc=0.7834  \t time=51.44s\n",
      "Epoch 2/10 \t loss=7.6408 \t val_loss=4.9685  \t val_acc=0.8237  \t time=52.80s\n",
      "Epoch 3/10 \t loss=6.1668 \t val_loss=4.3034  \t val_acc=0.8325  \t time=52.13s\n",
      "Epoch 4/10 \t loss=5.7189 \t val_loss=3.9520  \t val_acc=0.8526  \t time=53.34s\n",
      "Epoch 5/10 \t loss=5.0504 \t val_loss=3.8858  \t val_acc=0.8514  \t time=46.77s\n",
      "Epoch 6/10 \t loss=4.6268 \t val_loss=3.7060  \t val_acc=0.8514  \t time=47.17s\n",
      "Epoch 7/10 \t loss=4.4317 \t val_loss=3.6023  \t val_acc=0.8589  \t time=49.34s\n",
      "Epoch 8/10 \t loss=4.2113 \t val_loss=3.5993  \t val_acc=0.8627  \t time=59.47s\n",
      "Epoch 9/10 \t loss=3.8541 \t val_loss=3.5647  \t val_acc=0.8539  \t time=46.11s\n",
      "Epoch 10/10 \t loss=3.6361 \t val_loss=3.4779  \t val_acc=0.8665  \t time=49.05s\n"
     ]
    }
   ],
   "source": [
    "model = CNN_Text()\n",
    "loss_fn = nn.CrossEntropyLoss(reduction='sum')\n",
    "optimizer = torch.optim.Adam(filter(lambda p: p.requires_grad, model.parameters()), lr=0.001)\n",
    "model.to(device)\n",
    "\n",
    "# Load train and test in CUDA Memory\n",
    "x_train = torch.tensor(train_X, dtype=torch.long).to(device)\n",
    "y_train = torch.tensor(train_y, dtype=torch.long).to(device)\n",
    "x_cv = torch.tensor(test_X, dtype=torch.long).to(device)\n",
    "y_cv = torch.tensor(test_y, dtype=torch.long).to(device)\n",
    "\n",
    "# Create Torch datasets\n",
    "train = torch.utils.data.TensorDataset(x_train, y_train)\n",
    "valid = torch.utils.data.TensorDataset(x_cv, y_cv)\n",
    "\n",
    "# Create Data Loaders\n",
    "train_loader = torch.utils.data.DataLoader(train, batch_size=batch_size, shuffle=True)\n",
    "valid_loader = torch.utils.data.DataLoader(valid, batch_size=batch_size, shuffle=False)\n",
    "\n",
    "train_loss = []\n",
    "valid_loss = []\n",
    "\n",
    "for epoch in tqdm(range(n_epochs)):\n",
    "    start_time = time.time()\n",
    "    # Set model to train configuration\n",
    "    model.train()\n",
    "    avg_loss = 0.  \n",
    "    for i, (x_batch, y_batch) in enumerate(train_loader):\n",
    "        # Predict/Forward Pass\n",
    "        y_pred = model(x_batch)\n",
    "        # Compute loss\n",
    "        loss = loss_fn(y_pred, y_batch)\n",
    "        optimizer.zero_grad()\n",
    "        loss.backward()\n",
    "        optimizer.step()\n",
    "        \n",
    "\n",
    "        \n",
    "        avg_loss += loss.item() / len(train_loader)\n",
    "    # Set model to validation configuration -Doesn't get trained here\n",
    "    model.eval()        \n",
    "    avg_val_loss = 0.\n",
    "    val_preds = np.zeros((len(x_cv),len(le.classes_)))\n",
    "    \n",
    "    for i, (x_batch, y_batch) in enumerate(valid_loader):\n",
    "        y_pred = model(x_batch).detach()\n",
    "        avg_val_loss += loss_fn(y_pred, y_batch).item() / len(valid_loader)\n",
    "        # keep/store predictions\n",
    "        val_preds[i * batch_size:(i+1) * batch_size] =F.softmax(y_pred, dim=1).cpu().numpy()\n",
    "    \n",
    "    # Check Accuracy\n",
    "    val_accuracy = sum(val_preds.argmax(axis=1)==test_y)/len(test_y)\n",
    "    train_loss.append(avg_loss)\n",
    "    valid_loss.append(avg_val_loss)\n",
    "    elapsed_time = time.time() - start_time \n",
    "    print('Epoch {}/{} \\t loss={:.4f} \\t val_loss={:.4f}  \\t val_acc={:.4f}  \\t time={:.2f}s'.format(\n",
    "                epoch + 1, n_epochs, avg_loss, avg_val_loss, val_accuracy, elapsed_time))"
   ]
  },
  {
   "cell_type": "code",
   "execution_count": null,
   "id": "73e7b014-e63b-4c3d-8a11-595695f71291",
   "metadata": {},
   "outputs": [],
   "source": [
    "torch.save(model,'textcnn_model')"
   ]
  },
  {
   "cell_type": "code",
   "execution_count": 104,
   "id": "c6f40ae6-fdfc-43b0-b3ac-5a16806da6c1",
   "metadata": {},
   "outputs": [],
   "source": [
    "def plot_graph(epochs):\n",
    "    fig = plt.figure(figsize=(8,8))\n",
    "    plt.title(\"Train/Validation Loss\")\n",
    "    plt.plot(list(np.arange(epochs) + 1) , train_loss, label='train')\n",
    "    plt.plot(list(np.arange(epochs) + 1), valid_loss, label='validation')\n",
    "    plt.xlabel('num_epochs', fontsize=18)\n",
    "    plt.ylabel('loss', fontsize=18)\n",
    "    plt.legend(loc='best')\n",
    "    fig.savefig(\"blstm.png\")"
   ]
  },
  {
   "cell_type": "code",
   "execution_count": 105,
   "id": "26ab0a78-adca-4acc-a696-32e7b8554b8c",
   "metadata": {},
   "outputs": [
    {
     "data": {
      "image/png": "[encoded data removed]",
      "text/plain": [
       "<Figure size 576x576 with 1 Axes>"
      ]
     },
     "metadata": {},
     "output_type": "display_data"
    }
   ],
   "source": [
    "plot_graph(n_epochs)"
   ]
  },
  {
   "cell_type": "code",
   "execution_count": 110,
   "id": "8840ed31-1e78-45a5-b3a7-3cebefcbefa2",
   "metadata": {},
   "outputs": [
    {
     "data": {
      "text/plain": [
       "<AxesSubplot:title={'center':'Confusion Matrix'}, xlabel='Predicted label', ylabel='True label'>"
      ]
     },
     "execution_count": 110,
     "metadata": {},
     "output_type": "execute_result"
    },
    {
     "data": {
      "image/png": "[encoded data removed]",
      "text/plain": [
       "<Figure size 720x720 with 2 Axes>"
      ]
     },
     "metadata": {},
     "output_type": "display_data"
    }
   ],
   "source": [
    "import scikitplot as skplt\n",
    "from sklearn.metrics import classification_report\n",
    "y_true = [le.classes_[x] for x in test_y]\n",
    "y_pred = [le.classes_[x] for x in val_preds.argmax(axis=1)]\n",
    "skplt.metrics.plot_confusion_matrix(\n",
    "    y_true, \n",
    "    y_pred,\n",
    "    figsize=(10,10),x_tick_rotation=90)"
   ]
  },
  {
   "cell_type": "code",
   "execution_count": 107,
   "id": "d46402c6-340e-4bc7-8d0f-565faf4d94bb",
   "metadata": {},
   "outputs": [
    {
     "data": {
      "text/plain": [
       "0.8664987405541562"
      ]
     },
     "execution_count": 107,
     "metadata": {},
     "output_type": "execute_result"
    }
   ],
   "source": [
    "accuracy_score(y_true, y_pred)"
   ]
  },
  {
   "cell_type": "code",
   "execution_count": 45,
   "id": "6da90b5f-fddc-43a7-af4a-d0afd214957d",
   "metadata": {},
   "outputs": [
    {
     "name": "stdout",
     "output_type": "stream",
     "text": [
      "              precision    recall  f1-score   support\n",
      "\n",
      " agriculture       0.83      0.91      0.87        87\n",
      "   education       0.88      0.87      0.88        87\n",
      "     finance       0.79      0.85      0.82       132\n",
      "      health       0.88      0.79      0.83        97\n",
      "    politics       0.88      0.90      0.89       133\n",
      "      sports       0.95      0.97      0.96        86\n",
      "  technology       0.90      0.70      0.78        86\n",
      "     weather       0.84      0.90      0.87        86\n",
      "\n",
      "    accuracy                           0.86       794\n",
      "   macro avg       0.87      0.86      0.86       794\n",
      "weighted avg       0.86      0.86      0.86       794\n",
      "\n"
     ]
    },
    {
     "data": {
      "text/html": [
       "<div>\n",
       "<style scoped>\n",
       "    .dataframe tbody tr th:only-of-type {\n",
       "        vertical-align: middle;\n",
       "    }\n",
       "\n",
       "    .dataframe tbody tr th {\n",
       "        vertical-align: top;\n",
       "    }\n",
       "\n",
       "    .dataframe thead th {\n",
       "        text-align: right;\n",
       "    }\n",
       "</style>\n",
       "<table border=\"1\" class=\"dataframe\">\n",
       "  <thead>\n",
       "    <tr style=\"text-align: right;\">\n",
       "      <th></th>\n",
       "      <th>precision</th>\n",
       "      <th>recall</th>\n",
       "      <th>f1-score</th>\n",
       "      <th>support</th>\n",
       "    </tr>\n",
       "  </thead>\n",
       "  <tbody>\n",
       "    <tr>\n",
       "      <th>agriculture</th>\n",
       "      <td>0.831579</td>\n",
       "      <td>0.908046</td>\n",
       "      <td>0.868132</td>\n",
       "      <td>87.000000</td>\n",
       "    </tr>\n",
       "    <tr>\n",
       "      <th>education</th>\n",
       "      <td>0.883721</td>\n",
       "      <td>0.873563</td>\n",
       "      <td>0.878613</td>\n",
       "      <td>87.000000</td>\n",
       "    </tr>\n",
       "    <tr>\n",
       "      <th>finance</th>\n",
       "      <td>0.788732</td>\n",
       "      <td>0.848485</td>\n",
       "      <td>0.817518</td>\n",
       "      <td>132.000000</td>\n",
       "    </tr>\n",
       "    <tr>\n",
       "      <th>health</th>\n",
       "      <td>0.875000</td>\n",
       "      <td>0.793814</td>\n",
       "      <td>0.832432</td>\n",
       "      <td>97.000000</td>\n",
       "    </tr>\n",
       "    <tr>\n",
       "      <th>politics</th>\n",
       "      <td>0.875912</td>\n",
       "      <td>0.902256</td>\n",
       "      <td>0.888889</td>\n",
       "      <td>133.000000</td>\n",
       "    </tr>\n",
       "    <tr>\n",
       "      <th>sports</th>\n",
       "      <td>0.954023</td>\n",
       "      <td>0.965116</td>\n",
       "      <td>0.959538</td>\n",
       "      <td>86.000000</td>\n",
       "    </tr>\n",
       "    <tr>\n",
       "      <th>technology</th>\n",
       "      <td>0.895522</td>\n",
       "      <td>0.697674</td>\n",
       "      <td>0.784314</td>\n",
       "      <td>86.000000</td>\n",
       "    </tr>\n",
       "    <tr>\n",
       "      <th>weather</th>\n",
       "      <td>0.836957</td>\n",
       "      <td>0.895349</td>\n",
       "      <td>0.865169</td>\n",
       "      <td>86.000000</td>\n",
       "    </tr>\n",
       "    <tr>\n",
       "      <th>accuracy</th>\n",
       "      <td>0.861461</td>\n",
       "      <td>0.861461</td>\n",
       "      <td>0.861461</td>\n",
       "      <td>0.861461</td>\n",
       "    </tr>\n",
       "    <tr>\n",
       "      <th>macro avg</th>\n",
       "      <td>0.867681</td>\n",
       "      <td>0.860538</td>\n",
       "      <td>0.861825</td>\n",
       "      <td>794.000000</td>\n",
       "    </tr>\n",
       "    <tr>\n",
       "      <th>weighted avg</th>\n",
       "      <td>0.863670</td>\n",
       "      <td>0.861461</td>\n",
       "      <td>0.860482</td>\n",
       "      <td>794.000000</td>\n",
       "    </tr>\n",
       "  </tbody>\n",
       "</table>\n",
       "</div>"
      ],
      "text/plain": [
       "              precision    recall  f1-score     support\n",
       "agriculture    0.831579  0.908046  0.868132   87.000000\n",
       "education      0.883721  0.873563  0.878613   87.000000\n",
       "finance        0.788732  0.848485  0.817518  132.000000\n",
       "health         0.875000  0.793814  0.832432   97.000000\n",
       "politics       0.875912  0.902256  0.888889  133.000000\n",
       "sports         0.954023  0.965116  0.959538   86.000000\n",
       "technology     0.895522  0.697674  0.784314   86.000000\n",
       "weather        0.836957  0.895349  0.865169   86.000000\n",
       "accuracy       0.861461  0.861461  0.861461    0.861461\n",
       "macro avg      0.867681  0.860538  0.861825  794.000000\n",
       "weighted avg   0.863670  0.861461  0.860482  794.000000"
      ]
     },
     "execution_count": 45,
     "metadata": {},
     "output_type": "execute_result"
    }
   ],
   "source": [
    "print(classification_report(y_true, y_pred))\n",
    "pd.DataFrame(classification_report(y_true, y_pred, output_dict=True)).T"
   ]
  },
  {
   "cell_type": "code",
   "execution_count": 59,
   "id": "547cc6fb-93f8-42e4-ade5-1a5869123ee6",
   "metadata": {},
   "outputs": [
    {
     "name": "stdout",
     "output_type": "stream",
     "text": [
      "              precision    recall  f1-score   support\n",
      "\n",
      " agriculture       0.87      0.86      0.87        87\n",
      "   education       0.83      0.84      0.83        86\n",
      "     finance       0.80      0.77      0.78       132\n",
      "      health       0.80      0.87      0.83        97\n",
      "    politics       0.88      0.91      0.89       133\n",
      "      sports       0.98      0.99      0.98        86\n",
      "  technology       0.85      0.78      0.81        87\n",
      "     weather       0.89      0.88      0.89        86\n",
      "\n",
      "    accuracy                           0.86       794\n",
      "   macro avg       0.86      0.86      0.86       794\n",
      "weighted avg       0.86      0.86      0.86       794\n",
      "\n"
     ]
    }
   ],
   "source": [
    "print(classification_report(y_true, y_pred))"
   ]
  },
  {
   "cell_type": "markdown",
   "id": "035b616d-9d3f-4f57-a621-584329ac7ea4",
   "metadata": {},
   "source": [
    "2. LSTM model"
   ]
  },
  {
   "cell_type": "code",
   "execution_count": 108,
   "id": "551d8e46-e015-4d53-b403-7182121254b0",
   "metadata": {},
   "outputs": [
    {
     "name": "stdout",
     "output_type": "stream",
     "text": [
      "BiLSTM(\n",
      "  (embedding): Embedding(30000, 300)\n",
      "  (lstm): LSTM(300, 64, batch_first=True, bidirectional=True)\n",
      "  (linear): Linear(in_features=256, out_features=64, bias=True)\n",
      "  (relu): ReLU()\n",
      "  (dropout): Dropout(p=0.5, inplace=False)\n",
      "  (out): Linear(in_features=64, out_features=8, bias=True)\n",
      ")\n"
     ]
    }
   ],
   "source": [
    "class BiLSTM(nn.Module):\n",
    "    \n",
    "    def __init__(self):\n",
    "        super(BiLSTM, self).__init__()\n",
    "        self.hidden_size = 64\n",
    "        drp = 0.5\n",
    "        n_classes = len(le.classes_)\n",
    "        self.embedding = nn.Embedding(max_features, embed_size)\n",
    "        self.embedding.weight = nn.Parameter(torch.tensor(embedding_matrix, dtype=torch.float32))\n",
    "        self.embedding.weight.requires_grad = False\n",
    "        self.lstm = nn.LSTM(embed_size, self.hidden_size, bidirectional=True, batch_first=True)\n",
    "        self.linear = nn.Linear(self.hidden_size*4 , 64)\n",
    "        self.relu = nn.ReLU()\n",
    "        self.dropout = nn.Dropout(drp)\n",
    "        self.out = nn.Linear(64, n_classes)\n",
    "\n",
    "\n",
    "    def forward(self, x):\n",
    "        #rint(x.size())\n",
    "        h_embedding = self.embedding(x)\n",
    "        #_embedding = torch.squeeze(torch.unsqueeze(h_embedding, 0))\n",
    "        h_lstm, _ = self.lstm(h_embedding)\n",
    "        avg_pool = torch.mean(h_lstm, 1)\n",
    "        max_pool, _ = torch.max(h_lstm, 1)\n",
    "        conc = torch.cat(( avg_pool, max_pool), 1)\n",
    "        conc = self.relu(self.linear(conc))\n",
    "        conc = self.dropout(conc)\n",
    "        out = self.out(conc)\n",
    "        return out\n",
    "model = BiLSTM()\n",
    "print(model)"
   ]
  },
  {
   "cell_type": "code",
   "execution_count": 109,
   "id": "ce6f4f40-3a54-4888-969c-c8bb364748f1",
   "metadata": {},
   "outputs": [
    {
     "name": "stdout",
     "output_type": "stream",
     "text": [
      "Epoch 1/10 \t loss=13.0354 \t val_loss=7.1734  \t val_acc=0.7305  \t time=265.30s\n",
      "Epoch 2/10 \t loss=7.2744 \t val_loss=5.1824  \t val_acc=0.7935  \t time=301.77s\n",
      "Epoch 3/10 \t loss=5.4056 \t val_loss=4.1779  \t val_acc=0.8489  \t time=274.00s\n",
      "Epoch 4/10 \t loss=3.9848 \t val_loss=3.8081  \t val_acc=0.8627  \t time=258.36s\n",
      "Epoch 5/10 \t loss=3.1627 \t val_loss=4.0192  \t val_acc=0.8451  \t time=256.01s\n",
      "Epoch 6/10 \t loss=2.5362 \t val_loss=3.5555  \t val_acc=0.8753  \t time=248.16s\n",
      "Epoch 7/10 \t loss=2.1376 \t val_loss=3.7454  \t val_acc=0.8728  \t time=248.41s\n",
      "Epoch 8/10 \t loss=1.9278 \t val_loss=3.8488  \t val_acc=0.8564  \t time=248.98s\n",
      "Epoch 9/10 \t loss=1.2612 \t val_loss=3.9505  \t val_acc=0.8728  \t time=263.52s\n",
      "Epoch 10/10 \t loss=1.0225 \t val_loss=3.9761  \t val_acc=0.8703  \t time=280.88s\n"
     ]
    }
   ],
   "source": [
    "model = BiLSTM()\n",
    "loss_fn = nn.CrossEntropyLoss(reduction='sum')\n",
    "optimizer = torch.optim.Adam(filter(lambda p: p.requires_grad, model.parameters()), lr=0.001)\n",
    "model.to(device)\n",
    "\n",
    "# Load train and test in CUDA Memory\n",
    "x_train = torch.tensor(train_X, dtype=torch.long).to(device)\n",
    "y_train = torch.tensor(train_y, dtype=torch.long).to(device)\n",
    "x_cv = torch.tensor(test_X, dtype=torch.long).to(device)\n",
    "y_cv = torch.tensor(test_y, dtype=torch.long).to(device)\n",
    "\n",
    "# Create Torch datasets\n",
    "train = torch.utils.data.TensorDataset(x_train, y_train)\n",
    "valid = torch.utils.data.TensorDataset(x_cv, y_cv)\n",
    "\n",
    "# Create Data Loaders\n",
    "train_loader = torch.utils.data.DataLoader(train, batch_size=batch_size, shuffle=True)\n",
    "valid_loader = torch.utils.data.DataLoader(valid, batch_size=batch_size, shuffle=False)\n",
    "\n",
    "train_loss = []\n",
    "valid_loss = []\n",
    "\n",
    "for epoch in range(n_epochs):\n",
    "    start_time = time.time()\n",
    "    # Set model to train configuration\n",
    "    model.train()\n",
    "    avg_loss = 0.  \n",
    "    for i, (x_batch, y_batch) in enumerate(train_loader):\n",
    "        # Predict/Forward Pass\n",
    "        y_pred = model(x_batch)\n",
    "        # Compute loss\n",
    "        loss = loss_fn(y_pred, y_batch)\n",
    "        optimizer.zero_grad()\n",
    "        loss.backward()\n",
    "        optimizer.step()\n",
    "        avg_loss += loss.item() / len(train_loader)\n",
    "    \n",
    "    # Set model to validation configuration -Doesn't get trained here\n",
    "    model.eval()        \n",
    "    avg_val_loss = 0.\n",
    "    val_preds = np.zeros((len(x_cv),len(le.classes_)))\n",
    "    \n",
    "    for i, (x_batch, y_batch) in enumerate(valid_loader):\n",
    "        y_pred = model(x_batch).detach()\n",
    "        avg_val_loss += loss_fn(y_pred, y_batch).item() / len(valid_loader)\n",
    "        # keep/store predictions\n",
    "        val_preds[i * batch_size:(i+1) * batch_size] =F.softmax(y_pred, dim=1).cpu().numpy()\n",
    "    \n",
    "    # Check Accuracy\n",
    "    val_accuracy = sum(val_preds.argmax(axis=1)==test_y)/len(test_y)\n",
    "    train_loss.append(avg_loss)\n",
    "    valid_loss.append(avg_val_loss)\n",
    "    elapsed_time = time.time() - start_time \n",
    "    print('Epoch {}/{} \\t loss={:.4f} \\t val_loss={:.4f}  \\t val_acc={:.4f}  \\t time={:.2f}s'.format(\n",
    "                epoch + 1, n_epochs, avg_loss, avg_val_loss, val_accuracy, elapsed_time))"
   ]
  },
  {
   "cell_type": "code",
   "execution_count": 73,
   "id": "e1b57ef9-d2c4-400b-a5a6-cd7f05f835fd",
   "metadata": {},
   "outputs": [
    {
     "data": {
      "image/png": "[encoded data removed]",
      "text/plain": [
       "<Figure size 864x864 with 1 Axes>"
      ]
     },
     "metadata": {},
     "output_type": "display_data"
    },
    {
     "name": "stderr",
     "output_type": "stream",
     "text": [
      "wandb: Network error resolved after 0:00:44.473808, resuming normal operation.\n"
     ]
    }
   ],
   "source": [
    "plot_graph(n_epochs)"
   ]
  },
  {
   "cell_type": "code",
   "execution_count": null,
   "id": "020d203a-e2b5-4640-a3cf-1232119fd13d",
   "metadata": {},
   "outputs": [],
   "source": [
    "torch.save(model,'bilstm_model')"
   ]
  },
  {
   "cell_type": "code",
   "execution_count": 111,
   "id": "9d3fa9d1-cfd1-4664-b0a1-7c98f0a33a85",
   "metadata": {},
   "outputs": [
    {
     "data": {
      "text/plain": [
       "<AxesSubplot:title={'center':'Confusion Matrix'}, xlabel='Predicted label', ylabel='True label'>"
      ]
     },
     "execution_count": 111,
     "metadata": {},
     "output_type": "execute_result"
    },
    {
     "data": {
      "image/png": "[encoded data removed]",
      "text/plain": [
       "<Figure size 864x864 with 2 Axes>"
      ]
     },
     "metadata": {},
     "output_type": "display_data"
    }
   ],
   "source": [
    "import scikitplot as skplt\n",
    "y_true = [le.classes_[x] for x in test_y]\n",
    "y_pred = [le.classes_[x] for x in val_preds.argmax(axis=1)]\n",
    "skplt.metrics.plot_confusion_matrix(\n",
    "    y_true, \n",
    "    y_pred,\n",
    "    figsize=(12,12),x_tick_rotation=90)"
   ]
  },
  {
   "cell_type": "code",
   "execution_count": 112,
   "id": "f7adb36e-b6fb-4db2-a628-c6878a3951a5",
   "metadata": {},
   "outputs": [
    {
     "data": {
      "text/plain": [
       "0.8702770780856424"
      ]
     },
     "execution_count": 112,
     "metadata": {},
     "output_type": "execute_result"
    }
   ],
   "source": [
    "accuracy_score(y_true, y_pred)"
   ]
  },
  {
   "cell_type": "code",
   "execution_count": 50,
   "id": "c1df76ac-54b8-4029-adbb-5553f5bee813",
   "metadata": {},
   "outputs": [
    {
     "name": "stdout",
     "output_type": "stream",
     "text": [
      "              precision    recall  f1-score   support\n",
      "\n",
      " agriculture       0.84      0.91      0.87        87\n",
      "   education       0.89      0.92      0.90        87\n",
      "     finance       0.86      0.82      0.84       132\n",
      "      health       0.86      0.82      0.84        97\n",
      "    politics       0.90      0.94      0.92       133\n",
      "      sports       0.95      0.98      0.97        86\n",
      "  technology       0.85      0.79      0.82        86\n",
      "     weather       0.85      0.84      0.84        86\n",
      "\n",
      "    accuracy                           0.88       794\n",
      "   macro avg       0.88      0.88      0.88       794\n",
      "weighted avg       0.88      0.88      0.88       794\n",
      "\n"
     ]
    },
    {
     "name": "stderr",
     "output_type": "stream",
     "text": [
      "wandb: Network error resolved after 0:00:40.955656, resuming normal operation.\n",
      "wandb: Network error resolved after 0:01:27.615121, resuming normal operation.\n",
      "wandb: Network error resolved after 0:01:01.987405, resuming normal operation.\n",
      "wandb: Network error resolved after 0:00:39.819205, resuming normal operation.\n",
      "wandb: Network error resolved after 0:01:46.044137, resuming normal operation.\n",
      "wandb: Network error resolved after 0:10:55.107659, resuming normal operation.\n",
      "wandb: Network error resolved after 0:01:26.613022, resuming normal operation.\n",
      "wandb: Network error resolved after 0:03:12.783001, resuming normal operation.\n"
     ]
    }
   ],
   "source": [
    "print(classification_report(y_true, y_pred))"
   ]
  },
  {
   "cell_type": "code",
   "execution_count": null,
   "id": "daf7f8a4-f27f-4cc7-9998-0d67f1854506",
   "metadata": {},
   "outputs": [],
   "source": [
    "print(classification_report(y_true, y_pred))"
   ]
  },
  {
   "cell_type": "markdown",
   "id": "bed8e4fd-6b41-41ff-aed9-b13311cbd557",
   "metadata": {},
   "source": [
    "Using Afribert"
   ]
  },
  {
   "cell_type": "code",
   "execution_count": 114,
   "id": "8d430e14-be76-413d-b948-7298be117fb4",
   "metadata": {},
   "outputs": [],
   "source": [
    "# from transformers import AutoTokenizer, AutoModelForTokenClassification\n",
    "# model = AutoModelForTokenClassification.from_pretrained(\"castorini/afriberta_large\")\n",
    "# tokenizer = AutoTokenizer.from_pretrained(\"castorini/afriberta_large\")\n",
    "# tokenizer.model_max_length = 512\n",
    "from simpletransformers.classification import ClassificationModel\n",
    "from sklearn.preprocessing import LabelEncoder\n",
    "le = LabelEncoder()"
   ]
  },
  {
   "cell_type": "code",
   "execution_count": 131,
   "id": "ae99311e-71b1-411e-b8a2-6b84f8482054",
   "metadata": {},
   "outputs": [
    {
     "name": "stderr",
     "output_type": "stream",
     "text": [
      "Some weights of the model checkpoint at castorini/afriberta_base were not used when initializing XLMRobertaForSequenceClassification: ['lm_head.dense.bias', 'lm_head.layer_norm.bias', 'lm_head.decoder.weight', 'lm_head.bias', 'lm_head.layer_norm.weight', 'lm_head.decoder.bias', 'lm_head.dense.weight']\n",
      "- This IS expected if you are initializing XLMRobertaForSequenceClassification from the checkpoint of a model trained on another task or with another architecture (e.g. initializing a BertForSequenceClassification model from a BertForPreTraining model).\n",
      "- This IS NOT expected if you are initializing XLMRobertaForSequenceClassification from the checkpoint of a model that you expect to be exactly identical (initializing a BertForSequenceClassification model from a BertForSequenceClassification model).\n",
      "Some weights of XLMRobertaForSequenceClassification were not initialized from the model checkpoint at castorini/afriberta_base and are newly initialized: ['classifier.out_proj.weight', 'classifier.dense.weight', 'classifier.dense.bias', 'classifier.out_proj.bias']\n",
      "You should probably TRAIN this model on a down-stream task to be able to use it for predictions and inference.\n"
     ]
    }
   ],
   "source": [
    "modelb = ClassificationModel('xlmroberta', \"castorini/afriberta_base\",  num_labels=8,use_cuda=False,args={\"reprocess_input_data\": True,'num_train_epochs': 3, \"overwrite_output_dir\": True})\n"
   ]
  },
  {
   "cell_type": "code",
   "execution_count": 132,
   "id": "9f193f56-3f02-47da-b81c-601cf2907b6c",
   "metadata": {},
   "outputs": [
    {
     "name": "stderr",
     "output_type": "stream",
     "text": [
      "Some weights of the model checkpoint at castorini/afriberta_small were not used when initializing XLMRobertaForSequenceClassification: ['lm_head.dense.bias', 'lm_head.layer_norm.bias', 'lm_head.decoder.weight', 'lm_head.bias', 'lm_head.layer_norm.weight', 'lm_head.decoder.bias', 'lm_head.dense.weight']\n",
      "- This IS expected if you are initializing XLMRobertaForSequenceClassification from the checkpoint of a model trained on another task or with another architecture (e.g. initializing a BertForSequenceClassification model from a BertForPreTraining model).\n",
      "- This IS NOT expected if you are initializing XLMRobertaForSequenceClassification from the checkpoint of a model that you expect to be exactly identical (initializing a BertForSequenceClassification model from a BertForSequenceClassification model).\n",
      "Some weights of XLMRobertaForSequenceClassification were not initialized from the model checkpoint at castorini/afriberta_small and are newly initialized: ['classifier.out_proj.weight', 'classifier.dense.weight', 'classifier.dense.bias', 'classifier.out_proj.bias']\n",
      "You should probably TRAIN this model on a down-stream task to be able to use it for predictions and inference.\n"
     ]
    }
   ],
   "source": [
    "models = ClassificationModel('xlmroberta', \"castorini/afriberta_small\",  num_labels=8,use_cuda=False,args={\"reprocess_input_data\": True,'num_train_epochs': 3, \"overwrite_output_dir\": True})\n",
    "# model = TransformerModel('xlm-roberta', \"castorini/afriberta_large\", num_labels=4, args={'learning_rate':1e-5, 'num_train_epochs': 2, 'reprocess_input_data': True, 'overwrite_output_dir': True})"
   ]
  },
  {
   "cell_type": "code",
   "execution_count": 123,
   "id": "cf3284cb-9bac-4588-bbd7-b4ed150203c9",
   "metadata": {},
   "outputs": [
    {
     "ename": "SyntaxError",
     "evalue": "EOL while scanning string literal (<ipython-input-123-f8aa8c94263e>, line 1)",
     "output_type": "error",
     "traceback": [
      "\u001b[1;36m  File \u001b[1;32m\"<ipython-input-123-f8aa8c94263e>\"\u001b[1;36m, line \u001b[1;32m1\u001b[0m\n\u001b[1;33m    models = ClassificationModel('xlmroberta', \"castorini/afriberta_large\",  num_labels=8,use_cuda=False,args={\"reprocess_input_data\": True,'num_train_epoc: 1, \"overwrite_output_dir\": True})\u001b[0m\n\u001b[1;37m                                                                                                                                                                                              ^\u001b[0m\n\u001b[1;31mSyntaxError\u001b[0m\u001b[1;31m:\u001b[0m EOL while scanning string literal\n"
     ]
    }
   ],
   "source": [
    "modell = ClassificationModel('xlmroberta', \"castorini/afriberta_larg\",  num_labels=8,use_cuda=False,args={\"reprocess_input_data\": True,'num_train_epoc': 1, \"overwrite_output_dir\": True})\n",
    "# model = TransformerModel('xlm-roberta', \"castorini/afriberta_large\", num_labels=4, args={'learning_rate':1e-5, 'num_train_epochs': 2, 'reprocess_input_data': True, 'overwrite_output_dir': True})"
   ]
  },
  {
   "cell_type": "code",
   "execution_count": null,
   "id": "275baf18-a5d4-46bc-88a9-e2620f7222bb",
   "metadata": {},
   "outputs": [],
   "source": []
  },
  {
   "cell_type": "code",
   "execution_count": 80,
   "id": "2513d8de-ab8c-4a53-9594-549ca47fc874",
   "metadata": {},
   "outputs": [],
   "source": [
    "# modelx = ClassificationModel('xlmroberta', \"xlm-roberta-large\",  num_labels=7,weight=wj,use_cuda=False,args={\"reprocess_input_data\": True, \"overwrite_output_dir\": True})"
   ]
  },
  {
   "cell_type": "code",
   "execution_count": 133,
   "id": "bd458f09-f142-473f-9d81-dc41984dab37",
   "metadata": {},
   "outputs": [
    {
     "data": {
      "text/plain": [
       "politics       532\n",
       "finance        527\n",
       "health         386\n",
       "agriculture    348\n",
       "technology     346\n",
       "weather        345\n",
       "education      345\n",
       "sports         344\n",
       "Name: catagory, dtype: int64"
      ]
     },
     "execution_count": 133,
     "metadata": {},
     "output_type": "execute_result"
    }
   ],
   "source": [
    "dt = df.copy(deep=True)\n",
    "dt = dt[dt['catagory'] !=\"economics\"]\n",
    "dt = dt[dt['catagory'] !=\"business\"]\n",
    "dt = dt[dt['catagory'] !=\"others\"]\n",
    "\n",
    "tr, ts = train_test_split(data, stratify=data['catagory'], random_state = 43,test_size=0.2)\n",
    "tr['catagory'].value_counts()"
   ]
  },
  {
   "cell_type": "code",
   "execution_count": 134,
   "id": "4530e623-c4b9-4122-84d1-40f8646400d0",
   "metadata": {},
   "outputs": [],
   "source": [
    "from sklearn.preprocessing import LabelEncoder\n",
    "le = LabelEncoder()"
   ]
  },
  {
   "cell_type": "code",
   "execution_count": 135,
   "id": "1bd53540-865e-46e2-8451-152df36ebdef",
   "metadata": {},
   "outputs": [],
   "source": [
    "\n",
    "tr['catagory'] = le.fit_transform(tr['catagory'].values)\n",
    "ts['catagory'] = le.fit_transform(ts['catagory'].values)\n"
   ]
  },
  {
   "cell_type": "code",
   "execution_count": 9,
   "id": "bf8f2245-76b8-4938-b08f-da709e699b1e",
   "metadata": {},
   "outputs": [],
   "source": []
  },
  {
   "cell_type": "code",
   "execution_count": 77,
   "id": "45617b4d-2e58-44c0-80d4-14576a60e512",
   "metadata": {},
   "outputs": [
    {
     "data": {
      "text/plain": [
       "[1.1397270114942528,\n",
       " 1.1496376811594202,\n",
       " 0.7526091081593927,\n",
       " 1.0275259067357514,\n",
       " 0.7455357142857143,\n",
       " 1.1529796511627908,\n",
       " 1.146315028901734,\n",
       " 1.1496376811594202]"
      ]
     },
     "execution_count": 77,
     "metadata": {},
     "output_type": "execute_result"
    }
   ],
   "source": [
    "# wj=n_samples / (n_classes * n_samplesj)\n",
    "wj = []\n",
    "for i in range(8):\n",
    "    wj.append(tr.shape[0] / (8* tr[tr['catagory'] == i].shape[0]))\n",
    "wj\n"
   ]
  },
  {
   "cell_type": "code",
   "execution_count": 136,
   "id": "96b6eb79-5528-4152-8122-575af506032a",
   "metadata": {},
   "outputs": [
    {
     "data": {
      "application/vnd.jupyter.widget-view+json": {
       "model_id": "478665d5dda04557809b21e51da2ea3c",
       "version_major": 2,
       "version_minor": 0
      },
      "text/plain": [
       "Epoch:   0%|          | 0/3 [00:00<?, ?it/s]"
      ]
     },
     "metadata": {},
     "output_type": "display_data"
    },
    {
     "data": {
      "application/vnd.jupyter.widget-view+json": {
       "model_id": "696bd871ea7241699a1c57f67f7013b3",
       "version_major": 2,
       "version_minor": 0
      },
      "text/plain": [
       "Running Epoch 0 of 3:   0%|          | 0/397 [00:00<?, ?it/s]"
      ]
     },
     "metadata": {},
     "output_type": "display_data"
    },
    {
     "data": {
      "application/vnd.jupyter.widget-view+json": {
       "model_id": "d0cc8ac4de8149c6acd27a4c6730ce5e",
       "version_major": 2,
       "version_minor": 0
      },
      "text/plain": [
       "Running Epoch 1 of 3:   0%|          | 0/397 [00:01<?, ?it/s]"
      ]
     },
     "metadata": {},
     "output_type": "display_data"
    },
    {
     "data": {
      "application/vnd.jupyter.widget-view+json": {
       "model_id": "0b3ed5e895fd4ffbb3bec51609206252",
       "version_major": 2,
       "version_minor": 0
      },
      "text/plain": [
       "Running Epoch 2 of 3:   0%|          | 0/397 [00:02<?, ?it/s]"
      ]
     },
     "metadata": {},
     "output_type": "display_data"
    },
    {
     "data": {
      "text/plain": [
       "(1191, 0.43307039707799)"
      ]
     },
     "execution_count": 136,
     "metadata": {},
     "output_type": "execute_result"
    }
   ],
   "source": [
    "modelb.train_model(tr)"
   ]
  },
  {
   "cell_type": "code",
   "execution_count": 137,
   "id": "d42fb0ea-6387-4d42-be8b-5e6bb130c786",
   "metadata": {},
   "outputs": [
    {
     "data": {
      "application/vnd.jupyter.widget-view+json": {
       "model_id": "71625268403942d5be947159bf40ed60",
       "version_major": 2,
       "version_minor": 0
      },
      "text/plain": [
       "Epoch:   0%|          | 0/3 [00:00<?, ?it/s]"
      ]
     },
     "metadata": {},
     "output_type": "display_data"
    },
    {
     "data": {
      "application/vnd.jupyter.widget-view+json": {
       "model_id": "91d94206ff554ff494184214b690f8d5",
       "version_major": 2,
       "version_minor": 0
      },
      "text/plain": [
       "Running Epoch 0 of 3:   0%|          | 0/397 [00:00<?, ?it/s]"
      ]
     },
     "metadata": {},
     "output_type": "display_data"
    },
    {
     "data": {
      "application/vnd.jupyter.widget-view+json": {
       "model_id": "9acc5d62ecf34d2b89306282e0a849a9",
       "version_major": 2,
       "version_minor": 0
      },
      "text/plain": [
       "Running Epoch 1 of 3:   0%|          | 0/397 [00:00<?, ?it/s]"
      ]
     },
     "metadata": {},
     "output_type": "display_data"
    },
    {
     "data": {
      "application/vnd.jupyter.widget-view+json": {
       "model_id": "04f464132903427c9e21d2cf6ee7c8e1",
       "version_major": 2,
       "version_minor": 0
      },
      "text/plain": [
       "Running Epoch 2 of 3:   0%|          | 0/397 [00:00<?, ?it/s]"
      ]
     },
     "metadata": {},
     "output_type": "display_data"
    },
    {
     "data": {
      "text/plain": [
       "(1191, 0.46709314075914016)"
      ]
     },
     "execution_count": 137,
     "metadata": {},
     "output_type": "execute_result"
    }
   ],
   "source": [
    "models.train_model(tr)"
   ]
  },
  {
   "cell_type": "code",
   "execution_count": 138,
   "id": "e2795142-aab0-40e1-b0b0-d87baff7e523",
   "metadata": {},
   "outputs": [
    {
     "data": {
      "application/vnd.jupyter.widget-view+json": {
       "model_id": "273f3ff9c8a94d6496325d500a3a19e4",
       "version_major": 2,
       "version_minor": 0
      },
      "text/plain": [
       "  0%|          | 0/794 [00:01<?, ?it/s]"
      ]
     },
     "metadata": {},
     "output_type": "display_data"
    },
    {
     "data": {
      "application/vnd.jupyter.widget-view+json": {
       "model_id": "8e0c5cdc6ca943bba6ee759a419df63d",
       "version_major": 2,
       "version_minor": 0
      },
      "text/plain": [
       "Running Evaluation:   0%|          | 0/100 [00:00<?, ?it/s]"
      ]
     },
     "metadata": {},
     "output_type": "display_data"
    }
   ],
   "source": [
    "from sklearn.metrics import f1_score, accuracy_score, classification_report\n",
    "def f1_multiclass(labels, preds):\n",
    "    return classification_report(labels, preds)\n",
    "    \n",
    "result1, model_outputs1, wrong_predictions1 = models.eval_model(ts, f1=f1_multiclass, acc=accuracy_score)"
   ]
  },
  {
   "cell_type": "code",
   "execution_count": 139,
   "id": "1ca20dda-170b-4ca4-87d9-cb86f6b16f75",
   "metadata": {},
   "outputs": [
    {
     "data": {
      "application/vnd.jupyter.widget-view+json": {
       "model_id": "3b75ef6b833142efaba6e4e983fcda19",
       "version_major": 2,
       "version_minor": 0
      },
      "text/plain": [
       "  0%|          | 0/794 [00:00<?, ?it/s]"
      ]
     },
     "metadata": {},
     "output_type": "display_data"
    },
    {
     "data": {
      "application/vnd.jupyter.widget-view+json": {
       "model_id": "667356537b8e4ce088dc664e4f8b52af",
       "version_major": 2,
       "version_minor": 0
      },
      "text/plain": [
       "Running Evaluation:   0%|          | 0/100 [00:00<?, ?it/s]"
      ]
     },
     "metadata": {},
     "output_type": "display_data"
    }
   ],
   "source": [
    "from sklearn.metrics import f1_score, accuracy_score,classification_report\n",
    "def f1_multiclass(labels, preds):\n",
    "    return classification_report(labels, preds)\n",
    "    \n",
    "result2, model_outputs2, wrong_predictions2 = modelb.eval_model(ts, f1=f1_multiclass, acc=accuracy_score)"
   ]
  },
  {
   "cell_type": "code",
   "execution_count": 140,
   "id": "a8b49645-7985-4518-9fd7-001c7e593da0",
   "metadata": {},
   "outputs": [
    {
     "name": "stdout",
     "output_type": "stream",
     "text": [
      "0.8942065491183879\n",
      "              precision    recall  f1-score   support\n",
      "\n",
      "         0.0       0.88      0.87      0.88        87\n",
      "         1.0       0.95      0.91      0.93        87\n",
      "         2.0       0.85      0.86      0.85       132\n",
      "         3.0       0.90      0.91      0.90        97\n",
      "         4.0       0.93      0.91      0.92       133\n",
      "         5.0       0.96      0.95      0.96        86\n",
      "         6.0       0.83      0.85      0.84        86\n",
      "         7.0       0.86      0.91      0.88        86\n",
      "\n",
      "    accuracy                           0.89       794\n",
      "   macro avg       0.90      0.90      0.90       794\n",
      "weighted avg       0.90      0.89      0.89       794\n",
      "\n"
     ]
    }
   ],
   "source": [
    "print(result1['acc'])\n",
    "print(result1['f1'])"
   ]
  },
  {
   "cell_type": "code",
   "execution_count": 141,
   "id": "c087d665-04c2-4396-83ee-cdc4860d36a9",
   "metadata": {},
   "outputs": [
    {
     "name": "stdout",
     "output_type": "stream",
     "text": [
      "0.8942065491183879\n",
      "              precision    recall  f1-score   support\n",
      "\n",
      "         0.0       0.89      0.89      0.89        87\n",
      "         1.0       0.95      0.87      0.91        87\n",
      "         2.0       0.83      0.83      0.83       132\n",
      "         3.0       0.89      0.89      0.89        97\n",
      "         4.0       0.90      0.93      0.92       133\n",
      "         5.0       0.97      0.98      0.97        86\n",
      "         6.0       0.86      0.86      0.86        86\n",
      "         7.0       0.92      0.92      0.92        86\n",
      "\n",
      "    accuracy                           0.89       794\n",
      "   macro avg       0.90      0.90      0.90       794\n",
      "weighted avg       0.89      0.89      0.89       794\n",
      "\n"
     ]
    }
   ],
   "source": [
    "print(result2['acc'])\n",
    "print(result2['f1'])"
   ]
  },
  {
   "cell_type": "code",
   "execution_count": null,
   "id": "1ccc9087-8b45-42a3-84a2-5768a878746c",
   "metadata": {},
   "outputs": [],
   "source": []
  },
  {
   "cell_type": "code",
   "execution_count": 91,
   "id": "9fbb80fd-dfc6-4fc6-8123-d568996811e7",
   "metadata": {},
   "outputs": [
    {
     "data": {
      "application/vnd.jupyter.widget-view+json": {
       "model_id": "029ee6ecbd884a5abb15e3b772255a5d",
       "version_major": 2,
       "version_minor": 0
      },
      "text/plain": [
       "Epoch:   0%|          | 0/3 [00:00<?, ?it/s]"
      ]
     },
     "metadata": {},
     "output_type": "display_data"
    },
    {
     "data": {
      "application/vnd.jupyter.widget-view+json": {
       "model_id": "a8db78061c1e41dea74608212b306005",
       "version_major": 2,
       "version_minor": 0
      },
      "text/plain": [
       "Running Epoch 0 of 3:   0%|          | 0/397 [00:00<?, ?it/s]"
      ]
     },
     "metadata": {},
     "output_type": "display_data"
    },
    {
     "data": {
      "application/vnd.jupyter.widget-view+json": {
       "model_id": "2dbdec9a0da34c5eafef4d08064cf24f",
       "version_major": 2,
       "version_minor": 0
      },
      "text/plain": [
       "Running Epoch 1 of 3:   0%|          | 0/397 [00:00<?, ?it/s]"
      ]
     },
     "metadata": {},
     "output_type": "display_data"
    },
    {
     "data": {
      "application/vnd.jupyter.widget-view+json": {
       "model_id": "d0daf796ff4f4dbe99223b1eda3549e0",
       "version_major": 2,
       "version_minor": 0
      },
      "text/plain": [
       "Running Epoch 2 of 3:   0%|          | 0/397 [00:01<?, ?it/s]"
      ]
     },
     "metadata": {},
     "output_type": "display_data"
    },
    {
     "data": {
      "text/plain": [
       "(1191, 0.44476027195369255)"
      ]
     },
     "execution_count": 91,
     "metadata": {},
     "output_type": "execute_result"
    }
   ],
   "source": [
    "model.train_model(tr)"
   ]
  },
  {
   "cell_type": "code",
   "execution_count": 86,
   "id": "e67e1883-376e-4351-babb-d7db935e57a0",
   "metadata": {},
   "outputs": [
    {
     "data": {
      "application/vnd.jupyter.widget-view+json": {
       "model_id": "35f09d9ff5fd4d78a6d7eb4755be7055",
       "version_major": 2,
       "version_minor": 0
      },
      "text/plain": [
       "Epoch:   0%|          | 0/2 [00:00<?, ?it/s]"
      ]
     },
     "metadata": {},
     "output_type": "display_data"
    },
    {
     "data": {
      "application/vnd.jupyter.widget-view+json": {
       "model_id": "0d1617600bb64454a3e410d60e42b24d",
       "version_major": 2,
       "version_minor": 0
      },
      "text/plain": [
       "Running Epoch 0 of 2:   0%|          | 0/397 [00:00<?, ?it/s]"
      ]
     },
     "metadata": {},
     "output_type": "display_data"
    },
    {
     "data": {
      "application/vnd.jupyter.widget-view+json": {
       "model_id": "56b63b20638643bfa7bc1f0623de1acb",
       "version_major": 2,
       "version_minor": 0
      },
      "text/plain": [
       "Running Epoch 1 of 2:   0%|          | 0/397 [00:01<?, ?it/s]"
      ]
     },
     "metadata": {},
     "output_type": "display_data"
    },
    {
     "data": {
      "text/plain": [
       "(794, 0.5495834770038845)"
      ]
     },
     "execution_count": 86,
     "metadata": {},
     "output_type": "execute_result"
    }
   ],
   "source": [
    "model.train_model(tr)"
   ]
  },
  {
   "cell_type": "code",
   "execution_count": null,
   "id": "13809d77-4db5-4a89-9775-8595c1aca0e5",
   "metadata": {},
   "outputs": [],
   "source": [
    "result, model_outputs, wrong_predictions = model.eval_model(ts, f1=f1_multiclass, acc=accuracy_score)"
   ]
  },
  {
   "cell_type": "code",
   "execution_count": 18,
   "id": "62b46b8d-0c1b-4523-9822-b99c0fa0c27b",
   "metadata": {},
   "outputs": [
    {
     "data": {
      "application/vnd.jupyter.widget-view+json": {
       "model_id": "cc4cfec8e25c4862a624ef2b19c3acb2",
       "version_major": 2,
       "version_minor": 0
      },
      "text/plain": [
       "  0%|          | 0/794 [00:00<?, ?it/s]"
      ]
     },
     "metadata": {},
     "output_type": "display_data"
    },
    {
     "data": {
      "application/vnd.jupyter.widget-view+json": {
       "model_id": "0758ee3c9eb8414c84923a190c3bcb18",
       "version_major": 2,
       "version_minor": 0
      },
      "text/plain": [
       "Running Evaluation:   0%|          | 0/100 [00:00<?, ?it/s]"
      ]
     },
     "metadata": {},
     "output_type": "display_data"
    },
    {
     "data": {
      "text/html": [
       "Finishing last run (ID:1ptnyjud) before initializing another..."
      ],
      "text/plain": [
       "<IPython.core.display.HTML object>"
      ]
     },
     "metadata": {},
     "output_type": "display_data"
    },
    {
     "data": {
      "text/html": [
       "<br/>Waiting for W&B process to finish, PID 13228... <strong style=\"color:green\">(success).</strong>"
      ],
      "text/plain": [
       "<IPython.core.display.HTML object>"
      ]
     },
     "metadata": {},
     "output_type": "display_data"
    },
    {
     "data": {
      "application/vnd.jupyter.widget-view+json": {
       "model_id": "",
       "version_major": 2,
       "version_minor": 0
      },
      "text/plain": [
       "VBox(children=(Label(value=' 0.00MB of 0.00MB uploaded (0.00MB deduped)\\r'), FloatProgress(value=1.0, max=1.0)…"
      ]
     },
     "metadata": {},
     "output_type": "display_data"
    },
    {
     "data": {
      "text/html": [
       "<style>\n",
       "    table.wandb td:nth-child(1) { padding: 0 10px; text-align: right }\n",
       "    .wandb-row { display: flex; flex-direction: row; flex-wrap: wrap; width: 100% }\n",
       "    .wandb-col { display: flex; flex-direction: column; flex-basis: 100%; flex: 1; padding: 10px; }\n",
       "    </style>\n",
       "<div class=\"wandb-row\"><div class=\"wandb-col\">\n",
       "<h3>Run history:</h3><br/><table class=\"wandb\"><tr><td>Training loss</td><td>█▄▃▂▂▃▅▁▃█▁▁▁▇▁▁▁▂▁▃▁▁▁▁▁▃▁▄▁▁▂▁▁▁▁▁▅▁▄</td></tr><tr><td>global_step</td><td>▁▁▁▂▂▂▂▂▂▃▃▃▃▃▄▄▄▄▄▅▅▅▅▅▅▆▆▆▆▆▇▇▇▇▇▇███</td></tr><tr><td>lr</td><td>▄▇███▇▇▇▇▇▆▆▆▆▆▅▅▅▅▅▅▄▄▄▄▄▃▃▃▃▃▂▂▂▂▂▁▁▁</td></tr></table><br/></div><div class=\"wandb-col\">\n",
       "<h3>Run summary:</h3><br/><table class=\"wandb\"><tr><td>Training loss</td><td>0.80262</td></tr><tr><td>global_step</td><td>1950</td></tr><tr><td>lr</td><td>0.0</td></tr></table>\n",
       "</div></div>\n",
       "Synced 5 W&B file(s), 0 media file(s), 0 artifact file(s) and 0 other file(s)\n",
       "<br/>Synced <strong style=\"color:#cdcd00\">effortless-resonance-3</strong>: <a href=\"https://wandb.ai/gamme/ao_news_classification/runs/1ptnyjud\" target=\"_blank\">https://wandb.ai/gamme/ao_news_classification/runs/1ptnyjud</a><br/>\n",
       "Find logs at: <code>.\\wandb\\run-20220520_171227-1ptnyjud\\logs</code><br/>\n"
      ],
      "text/plain": [
       "<IPython.core.display.HTML object>"
      ]
     },
     "metadata": {},
     "output_type": "display_data"
    },
    {
     "data": {
      "text/html": [
       "Successfully finished last run (ID:1ptnyjud). Initializing new run:<br/>"
      ],
      "text/plain": [
       "<IPython.core.display.HTML object>"
      ]
     },
     "metadata": {},
     "output_type": "display_data"
    },
    {
     "data": {
      "text/html": [
       "\n",
       "                    Syncing run <strong><a href=\"https://wandb.ai/gamme/ao_news_classification/runs/1jqx0idt\" target=\"_blank\">comic-vortex-4</a></strong> to <a href=\"https://wandb.ai/gamme/ao_news_classification\" target=\"_blank\">Weights & Biases</a> (<a href=\"https://docs.wandb.com/integrations/jupyter.html\" target=\"_blank\">docs</a>).<br/>\n",
       "\n",
       "                "
      ],
      "text/plain": [
       "<IPython.core.display.HTML object>"
      ]
     },
     "metadata": {},
     "output_type": "display_data"
    }
   ],
   "source": [
    "from sklearn.metrics import f1_score, accuracy_score,classification_report\n",
    "def f1_multiclass(labels, preds):\n",
    "    return classification_report(labels, preds)\n",
    "    \n",
    "result1, model_outputs1, wrong_predictions1 = models.eval_model(ts, f1=f1_multiclass, acc=accuracy_score)"
   ]
  },
  {
   "cell_type": "code",
   "execution_count": null,
   "id": "36acc78a-d55a-4703-b358-79edb169498e",
   "metadata": {},
   "outputs": [],
   "source": []
  },
  {
   "cell_type": "code",
   "execution_count": 55,
   "id": "b9ee4cfe-5e32-4312-950f-1bf725125e2e",
   "metadata": {},
   "outputs": [
    {
     "data": {
      "text/plain": [
       "array(['agriculture', 'education', 'finance', 'health', 'politics',\n",
       "       'sports', 'technology', 'weather'], dtype=object)"
      ]
     },
     "execution_count": 55,
     "metadata": {},
     "output_type": "execute_result"
    }
   ],
   "source": [
    "le.classes_"
   ]
  },
  {
   "cell_type": "code",
   "execution_count": 58,
   "id": "90ce2985-a37f-43ca-a0ab-18ad38bfcff4",
   "metadata": {},
   "outputs": [
    {
     "name": "stdout",
     "output_type": "stream",
     "text": [
      "0.8979848866498741\n"
     ]
    }
   ],
   "source": [
    "print(result['acc'])\n"
   ]
  },
  {
   "cell_type": "code",
   "execution_count": 56,
   "id": "c26fa97b-b1d7-4a58-8ea3-373cd4ff8ff5",
   "metadata": {},
   "outputs": [
    {
     "name": "stdout",
     "output_type": "stream",
     "text": [
      "              precision    recall  f1-score   support\n",
      "\n",
      "         0.0       0.89      0.92      0.90        87\n",
      "         1.0       0.96      0.89      0.92        87\n",
      "         2.0       0.81      0.81      0.81       132\n",
      "         3.0       0.87      0.91      0.89        97\n",
      "         4.0       0.95      0.92      0.93       133\n",
      "         5.0       0.94      0.97      0.95        86\n",
      "         6.0       0.86      0.88      0.87        86\n",
      "         7.0       0.93      0.93      0.93        86\n",
      "\n",
      "    accuracy                           0.90       794\n",
      "   macro avg       0.90      0.90      0.90       794\n",
      "weighted avg       0.90      0.90      0.90       794\n",
      "\n"
     ]
    }
   ],
   "source": [
    "print(result['f1'])"
   ]
  },
  {
   "cell_type": "code",
   "execution_count": 93,
   "id": "ccbd5e77-f20e-44c8-9f72-0a57800bc0b2",
   "metadata": {},
   "outputs": [
    {
     "name": "stdout",
     "output_type": "stream",
     "text": [
      "              precision    recall  f1-score   support\n",
      "\n",
      "         0.0       0.84      0.94      0.89        87\n",
      "         1.0       0.99      0.91      0.95        87\n",
      "         2.0       0.81      0.83      0.82       132\n",
      "         3.0       0.90      0.90      0.90        97\n",
      "         4.0       0.96      0.92      0.94       133\n",
      "         5.0       0.94      0.94      0.94        86\n",
      "         6.0       0.88      0.88      0.88        86\n",
      "         7.0       0.92      0.91      0.91        86\n",
      "\n",
      "    accuracy                           0.90       794\n",
      "   macro avg       0.90      0.90      0.90       794\n",
      "weighted avg       0.90      0.90      0.90       794\n",
      "\n"
     ]
    }
   ],
   "source": [
    "print(result['f1'])\n",
    "# epoch 3"
   ]
  },
  {
   "cell_type": "code",
   "execution_count": 88,
   "id": "5735f5e8-4977-48fe-9d0f-e09d7bc7cd52",
   "metadata": {},
   "outputs": [
    {
     "name": "stdout",
     "output_type": "stream",
     "text": [
      "              precision    recall  f1-score   support\n",
      "\n",
      "         0.0       0.86      0.89      0.87        87\n",
      "         1.0       0.97      0.90      0.93        87\n",
      "         2.0       0.82      0.85      0.83       132\n",
      "         3.0       0.91      0.88      0.89        97\n",
      "         4.0       0.92      0.92      0.92       133\n",
      "         5.0       0.95      0.95      0.95        86\n",
      "         6.0       0.84      0.85      0.84        86\n",
      "         7.0       0.88      0.90      0.89        86\n",
      "\n",
      "    accuracy                           0.89       794\n",
      "   macro avg       0.89      0.89      0.89       794\n",
      "weighted avg       0.89      0.89      0.89       794\n",
      "\n"
     ]
    }
   ],
   "source": [
    "print(result['f1'])\n",
    "# epoch-2"
   ]
  },
  {
   "cell_type": "code",
   "execution_count": 83,
   "id": "17b52817-c53a-4af4-9959-d9a94a6e1461",
   "metadata": {},
   "outputs": [
    {
     "name": "stdout",
     "output_type": "stream",
     "text": [
      "              precision    recall  f1-score   support\n",
      "\n",
      "         0.0       0.86      0.91      0.88        87\n",
      "         1.0       0.96      0.87      0.92        87\n",
      "         2.0       0.83      0.80      0.81       132\n",
      "         3.0       0.85      0.90      0.87        97\n",
      "         4.0       0.92      0.88      0.90       133\n",
      "         5.0       0.95      0.97      0.96        86\n",
      "         6.0       0.75      0.84      0.79        86\n",
      "         7.0       0.88      0.87      0.88        86\n",
      "\n",
      "    accuracy                           0.87       794\n",
      "   macro avg       0.88      0.88      0.88       794\n",
      "weighted avg       0.88      0.87      0.87       794\n",
      "\n"
     ]
    }
   ],
   "source": [
    "print(result['f1'])"
   ]
  },
  {
   "cell_type": "code",
   "execution_count": 75,
   "id": "5f2e5a69-7371-4756-9fea-9162ff9265f1",
   "metadata": {},
   "outputs": [
    {
     "name": "stdout",
     "output_type": "stream",
     "text": [
      "              precision    recall  f1-score   support\n",
      "\n",
      "         0.0       0.85      0.92      0.88        87\n",
      "         1.0       0.93      0.89      0.91        87\n",
      "         2.0       0.79      0.81      0.80       132\n",
      "         3.0       0.91      0.86      0.88        97\n",
      "         4.0       0.91      0.95      0.93       133\n",
      "         5.0       0.96      0.95      0.96        86\n",
      "         6.0       0.84      0.80      0.82        86\n",
      "         7.0       0.86      0.85      0.85        86\n",
      "\n",
      "    accuracy                           0.88       794\n",
      "   macro avg       0.88      0.88      0.88       794\n",
      "weighted avg       0.88      0.88      0.88       794\n",
      "\n"
     ]
    }
   ],
   "source": [
    "print(result['f1'])"
   ]
  },
  {
   "cell_type": "code",
   "execution_count": 178,
   "id": "d504a150-5dac-4608-bdad-adf5cbd8f322",
   "metadata": {},
   "outputs": [
    {
     "data": {
      "text/plain": [
       "array([[ 6.71011543, -0.65753585, -0.67413652, ..., -0.93922257,\n",
       "        -1.49169111, -1.01133561],\n",
       "       [-2.61461759, -2.10014796, -1.841609  , ...,  2.57977128,\n",
       "         0.63630182,  4.14503002],\n",
       "       [-0.95912433, -1.14233339, -1.16430712, ...,  6.92256165,\n",
       "        -0.89143431, -1.51006234],\n",
       "       ...,\n",
       "       [-0.09871805, -0.52734262,  5.76349831, ..., -2.64753866,\n",
       "        -0.0103081 , -1.22587633],\n",
       "       [-1.28819108, -1.22966862, -1.10200119, ..., -1.70985258,\n",
       "        -0.5807634 ,  6.64490795],\n",
       "       [ 6.72017097, -0.69895881, -0.73345363, ..., -0.90016299,\n",
       "        -1.55005562, -0.92656219]])"
      ]
     },
     "execution_count": 178,
     "metadata": {},
     "output_type": "execute_result"
    }
   ],
   "source": [
    "wrong_predictions"
   ]
  },
  {
   "cell_type": "code",
   "execution_count": 70,
   "id": "3b39a0db-cc67-4624-bfd0-83e5d5e760f5",
   "metadata": {},
   "outputs": [],
   "source": [
    "def plot_graph_n(epochs):\n",
    "    fig = plt.figure(figsize=(12,12))\n",
    "    plt.title(\"Accuracy Over Epoch\")\n",
    "    plt.plot(list(np.arange(epochs) + 1) , Xr, label='Accuracy Over Epochs')\n",
    "    plt.xlabel('Epochs', fontsize=12)\n",
    "    plt.ylabel('Accuracy', fontsize=12)\n",
    "    plt.legend(loc='best')\n",
    "    fig.savefig(\"accuracy.png\")"
   ]
  },
  {
   "cell_type": "code",
   "execution_count": 71,
   "id": "1616f226-af44-49e9-bd46-1ef1557b200d",
   "metadata": {},
   "outputs": [
    {
     "data": {
      "image/png": "[encoded data removed]",
      "text/plain": [
       "<Figure size 864x864 with 1 Axes>"
      ]
     },
     "metadata": {},
     "output_type": "display_data"
    }
   ],
   "source": [
    "Xr = [88,89,90,90,90]\n",
    "yr = 5\n",
    "pdt = plot_graph_n(yr)\n"
   ]
  },
  {
   "cell_type": "code",
   "execution_count": null,
   "id": "c17da0ce-4dc9-47e8-a177-f6fcb01d8523",
   "metadata": {},
   "outputs": [],
   "source": []
  }
 ],
 "metadata": {
  "kernelspec": {
   "display_name": "Python 3",
   "language": "python",
   "name": "python3"
  },
  "language_info": {
   "codemirror_mode": {
    "name": "ipython",
    "version": 3
   },
   "file_extension": ".py",
   "mimetype": "text/x-python",
   "name": "python",
   "nbconvert_exporter": "python",
   "pygments_lexer": "ipython3",
   "version": "3.8.8"
  }
 },
 "nbformat": 4,
 "nbformat_minor": 5
}
